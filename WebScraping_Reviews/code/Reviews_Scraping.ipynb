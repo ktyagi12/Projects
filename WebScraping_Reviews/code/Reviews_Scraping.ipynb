{
 "cells": [
  {
   "cell_type": "markdown",
   "metadata": {},
   "source": [
    "### TEXT CLASSIFICATION ALGORITHM ON REVIEWS AND THEIR PERFORMANCE EVALUATION"
   ]
  },
  {
   "cell_type": "code",
   "execution_count": 1,
   "metadata": {},
   "outputs": [],
   "source": [
    "# importing necessary libraries\n",
    "import os\n",
    "import pandas as pd\n",
    "\n",
    "# scraping the customer reviews.\n",
    "import requests\n",
    "from bs4 import BeautifulSoup, SoupStrainer\n",
    "\n",
    "# Pre-processing libraries\n",
    "from sklearn.feature_extraction.text import TfidfVectorizer\n",
    "from nltk.stem import WordNetLemmatizer\n",
    "from sklearn.model_selection import train_test_split\n",
    "\n",
    "# classification models\n",
    "from sklearn.linear_model import LogisticRegression\n",
    "from sklearn.naive_bayes import GaussianNB\n",
    "from sklearn.ensemble import RandomForestClassifier\n",
    "\n",
    "# evaluation strategies\n",
    "from sklearn.metrics import accuracy_score, confusion_matrix\n",
    "from sklearn.metrics import classification_report\n",
    "from sklearn.model_selection import cross_val_score, RepeatedKFold\n",
    "\n",
    "import warnings\n",
    "warnings.filterwarnings(\"ignore\")\n",
    "\n",
    "# text pre-processing\n",
    "import nltk\n",
    "\n",
    "# For displaying the confusion matrix\n",
    "import seaborn as sn"
   ]
  },
  {
   "cell_type": "markdown",
   "metadata": {},
   "source": [
    "### TASK 1:\n",
    "\n",
    "__Select three review categories of your choice. Scrape all reviews for each category and store them as three separate datasets. For each review, you should store the review text and a class label (i.e. whether the review is “positive” or “negative”).__\n",
    "\n",
    "***CATEGORIES SELECTED: GYM, FASHION, AND HAIR_SALONS***"
   ]
  },
  {
   "cell_type": "markdown",
   "metadata": {},
   "source": [
    "#### 1.1 SCRAPING THE MAIN CATEGORY LINKS"
   ]
  },
  {
   "cell_type": "code",
   "execution_count": 2,
   "metadata": {},
   "outputs": [
    {
     "name": "stdout",
     "output_type": "stream",
     "text": [
      "['http://mlg.ucd.ie/modules/yalp/fashion_list.html', 'http://mlg.ucd.ie/modules/yalp/gym_list.html', 'http://mlg.ucd.ie/modules/yalp/hair_salons_list.html']\n"
     ]
    }
   ],
   "source": [
    "# Creating a list of selected categories.\n",
    "main_url='http://mlg.ucd.ie/modules/yalp/'\n",
    "\n",
    "# To store the main category hyperlinks\n",
    "categories_url = []\n",
    "\n",
    "# retrieve the data from the specified base url. \n",
    "base_data = requests.get(main_url)\n",
    "\n",
    "# scrape the contents of the web page\n",
    "scraper = BeautifulSoup(base_data.content,'html.parser')\n",
    "\n",
    "# Since the links are represented using the <a> tags, so wherever 'a' tags exists, all the links are stored in links.\n",
    "links = scraper.find_all('a')\n",
    "\n",
    "# Selecting only the Gym, Fashion, and Hair and Salons categories.\n",
    "for link in links:\n",
    "    # Get the contents of href tags using get() function.\n",
    "    link = link.get('href')\n",
    "    \n",
    "    if 'gym' in link or 'fashion' in link or 'hair' in link:\n",
    "        # Appending the base url and the extracted link and storing them in the list of categories.\n",
    "        url = main_url + str(link)\n",
    "        categories_url.append(url) \n",
    "        \n",
    "print(categories_url)"
   ]
  },
  {
   "cell_type": "markdown",
   "metadata": {},
   "source": [
    "#### 1.2 SCRAPING THE SUB CATEGORIES WITHIN THE MAIN CATEGORIES"
   ]
  },
  {
   "cell_type": "code",
   "execution_count": 3,
   "metadata": {},
   "outputs": [],
   "source": [
    "# To store the final reviews along with the ratings.\n",
    "category_reviews_ratings = []\n",
    "\n",
    "# To store the sub links of all the categories.\n",
    "sub_categories = []\n",
    "\n",
    "for category in categories_url:\n",
    "    sub_cat = []\n",
    "    \n",
    "    # retrieve the data from the specified base url. \n",
    "    base_data = requests.get(category)\n",
    "    \n",
    "    # scrape the contents of the web page\n",
    "    scraper = BeautifulSoup(base_data.content,'html.parser')\n",
    "    \n",
    "    # Since the links are represented using the <a> tags, so wherever 'a' tags exists, all the links are stored in links.\n",
    "    links = scraper.find_all('a')\n",
    "    \n",
    "    # Selecting only the Gym, Fashion, and Hair and Salons categories.\n",
    "    for link in links:\n",
    "        \n",
    "        # Get the contents of href tags.\n",
    "        link = link.get('href')\n",
    "        \n",
    "        # Wherever 'index' exists in the link, skipping it.\n",
    "        if 'index' in link:\n",
    "            pass\n",
    "        \n",
    "        # Store the link of the sub category concatenated with main link.\n",
    "        else:\n",
    "            sub_cat.append(main_url+ link)\n",
    "\n",
    "    sub_categories.append(sub_cat)"
   ]
  },
  {
   "cell_type": "markdown",
   "metadata": {},
   "source": [
    "#### 1.3 SCRAPING THE REVIEWS OF EVERY SUB CATEGORY OF FASHION, GYMS AND HAIR_SALON \n",
    "#### 1.4 REVIEWS ARE RATED POSITIVE OR NEGATIVE BASED ON THEIR RATINGS "
   ]
  },
  {
   "cell_type": "code",
   "execution_count": 4,
   "metadata": {},
   "outputs": [],
   "source": [
    "# Fetch the reviews for each sub category of (Fashion, Gym and Hair&Salon)\n",
    "for i in range(len(sub_categories)):\n",
    "    curr_category = sub_categories[i]\n",
    "    # To store the reviews for the selected category.\n",
    "    reviews_list = []\n",
    "    # To store the ratings of each reviews for the selected category.\n",
    "    ratings_list = []\n",
    "    \n",
    "    for url in curr_category:\n",
    "        # retrieve the data from the specified base url. \n",
    "        base_data = requests.get(url)\n",
    "        # scrape the contents of the web page\n",
    "        scraper = BeautifulSoup(base_data.content,'html.parser')\n",
    "        #To extract a particular class inside a tag\n",
    "        reviews = scraper.find_all('p',{\"class\":\"review-text\"})\n",
    "        for review in reviews:\n",
    "            reviews_list.append(review.text)\n",
    "\n",
    "        # Ratings exists in alt tag of the img tags.\n",
    "        ratings = scraper.find_all('img',alt=True)    \n",
    "        for rating in ratings:\n",
    "            # Check if rating is less than 3: The review will be Negative.\n",
    "            if int(rating.get('alt')[0])<=3:\n",
    "                ratings_list.append('negative')\n",
    "            \n",
    "            # Check if rating is greater than 3: The review will be Positive.\n",
    "            else:\n",
    "                ratings_list.append('positive')\n",
    "\n",
    "        # Dictionary of keys Reviews and Ratings\n",
    "        dict_ = {'Reviews': reviews_list,'Label':ratings_list}\n",
    "    \n",
    "    # Converting the Reviews and Ratings to a dataframe and appending to final list\n",
    "    category_reviews_ratings.append(pd.DataFrame(dict_))"
   ]
  },
  {
   "cell_type": "markdown",
   "metadata": {},
   "source": [
    "#### 1.5 STORING ALL THE REVIEWS ALONG WITH THEIR RATINGS/TARGET CLASS IN A CSV FILE"
   ]
  },
  {
   "cell_type": "code",
   "execution_count": 5,
   "metadata": {},
   "outputs": [],
   "source": [
    "# Storing the reviews and their ratings in a comma separated file.\n",
    "result = pd.concat(category_reviews_ratings)\n",
    "result.to_csv('./Reviews.csv', index = False)"
   ]
  },
  {
   "cell_type": "markdown",
   "metadata": {},
   "source": [
    "### TASK 2: \n",
    "\n",
    "### **For each of the three category datasets:**\n",
    "\n",
    "### **a. From the reviews in this category, apply appropriate preprocessing steps to create a numeric representation of the data, suitable for classification.**"
   ]
  },
  {
   "cell_type": "code",
   "execution_count": 6,
   "metadata": {},
   "outputs": [
    {
     "data": {
      "text/html": [
       "<div>\n",
       "<style scoped>\n",
       "    .dataframe tbody tr th:only-of-type {\n",
       "        vertical-align: middle;\n",
       "    }\n",
       "\n",
       "    .dataframe tbody tr th {\n",
       "        vertical-align: top;\n",
       "    }\n",
       "\n",
       "    .dataframe thead th {\n",
       "        text-align: right;\n",
       "    }\n",
       "</style>\n",
       "<table border=\"1\" class=\"dataframe\">\n",
       "  <thead>\n",
       "    <tr style=\"text-align: right;\">\n",
       "      <th></th>\n",
       "      <th>Reviews</th>\n",
       "      <th>Label</th>\n",
       "    </tr>\n",
       "  </thead>\n",
       "  <tbody>\n",
       "    <tr>\n",
       "      <td>0</td>\n",
       "      <td>Looking for the best tactical supplies? Look n...</td>\n",
       "      <td>positive</td>\n",
       "    </tr>\n",
       "    <tr>\n",
       "      <td>1</td>\n",
       "      <td>Stood in line like an idiot for 5 minutes to p...</td>\n",
       "      <td>negative</td>\n",
       "    </tr>\n",
       "    <tr>\n",
       "      <td>2</td>\n",
       "      <td>Another great store with quality Equipment. Th...</td>\n",
       "      <td>positive</td>\n",
       "    </tr>\n",
       "    <tr>\n",
       "      <td>3</td>\n",
       "      <td>The Problem with this store is not that they h...</td>\n",
       "      <td>positive</td>\n",
       "    </tr>\n",
       "    <tr>\n",
       "      <td>4</td>\n",
       "      <td>Great place! We went in at almost closing time...</td>\n",
       "      <td>positive</td>\n",
       "    </tr>\n",
       "  </tbody>\n",
       "</table>\n",
       "</div>"
      ],
      "text/plain": [
       "                                             Reviews     Label\n",
       "0  Looking for the best tactical supplies? Look n...  positive\n",
       "1  Stood in line like an idiot for 5 minutes to p...  negative\n",
       "2  Another great store with quality Equipment. Th...  positive\n",
       "3  The Problem with this store is not that they h...  positive\n",
       "4  Great place! We went in at almost closing time...  positive"
      ]
     },
     "execution_count": 6,
     "metadata": {},
     "output_type": "execute_result"
    }
   ],
   "source": [
    "# Reading the reviews from the comma separated file using the pandas read_csv().\n",
    "dframe = pd.read_csv('./Reviews.csv')\n",
    "\n",
    "# Displaying top 5 reviews.\n",
    "dframe.head()"
   ]
  },
  {
   "cell_type": "markdown",
   "metadata": {},
   "source": [
    "## 2.a PRE-PROCESSING\n",
    "\n",
    "A data mining technique to transform the raw data scraped from the web sources into cleaner information so as to work efficiently with the clean data is Data Pre Processing.\n",
    "In order to transform the human language text into machine-readable format, pre-processing is required.\n",
    "\n",
    "A various number of pre-processing steps are performed on the reviews data so that they can take a form easily used to build the model. Steps are as follows:\n",
    "\n",
    "1. Data Normalisation\n",
    "2. Lemmatization\n",
    "3. Stop Word removal\n",
    "4. TF-IDF Vectorisation\n",
    "\n",
    "Data cleaning and transformation are methods used to remove outliers and standardize the data so that they take a form that can be easily used to create a model."
   ]
  },
  {
   "cell_type": "markdown",
   "metadata": {},
   "source": [
    "#### 2.a.1. NORMALIZATION\n",
    "\n",
    "The process to convert all the words in the reviews to same case so as to shrink the vocabulary in size.\n",
    "It transforms text into a single canonical form that it might not had before."
   ]
  },
  {
   "cell_type": "code",
   "execution_count": 7,
   "metadata": {},
   "outputs": [
    {
     "data": {
      "text/plain": [
       "0    looking for the best tactical supplies? look n...\n",
       "1    stood in line like an idiot for 5 minutes to p...\n",
       "2    another great store with quality equipment. th...\n",
       "3    the problem with this store is not that they h...\n",
       "4    great place! we went in at almost closing time...\n",
       "Name: Reviews, dtype: object"
      ]
     },
     "execution_count": 7,
     "metadata": {},
     "output_type": "execute_result"
    }
   ],
   "source": [
    "# For every review present in the dataframe, removing the whitespaces from end and converting them to lowercase.\n",
    "dframe['Reviews'] = [item.strip().lower() for item in dframe['Reviews']]\n",
    "\n",
    "# Displaying top 5 reviews after normalization.\n",
    "dframe['Reviews'].iloc[0:5]"
   ]
  },
  {
   "cell_type": "markdown",
   "metadata": {},
   "source": [
    "#### 2.a.2. LEMMATIZATION\n",
    "\n",
    "A process to group the various inflected terms together so as to analyse them as a single term.\n",
    "It considers the context while lemmatizing the word by linking the words with similar meaning."
   ]
  },
  {
   "cell_type": "code",
   "execution_count": 8,
   "metadata": {},
   "outputs": [],
   "source": [
    "# nltk library provides WordNetLemmatizer() under stem.\n",
    "lemmatizer = nltk.stem.WordNetLemmatizer()\n",
    "\n",
    "# Function to lemmatize the text passes through lemmatize() function.\n",
    "def lemmatize_text(text):\n",
    "    return lemmatizer.lemmatize(text)"
   ]
  },
  {
   "cell_type": "code",
   "execution_count": 9,
   "metadata": {},
   "outputs": [
    {
     "data": {
      "text/plain": [
       "0    looking for the best tactical supplies? look n...\n",
       "1    stood in line like an idiot for 5 minutes to p...\n",
       "2    another great store with quality equipment. th...\n",
       "3    the problem with this store is not that they h...\n",
       "4    great place! we went in at almost closing time...\n",
       "Name: Reviews, dtype: object"
      ]
     },
     "execution_count": 9,
     "metadata": {},
     "output_type": "execute_result"
    }
   ],
   "source": [
    "# Invoking the lemmatize_text function for every review present in Reviews of the dataframe.\n",
    "dframe['Reviews'] = dframe.Reviews.apply(lemmatize_text)\n",
    "\n",
    "# Displaying top 5 reviews after lemmatization.\n",
    "dframe['Reviews'].iloc[0:5]"
   ]
  },
  {
   "cell_type": "code",
   "execution_count": 10,
   "metadata": {},
   "outputs": [
    {
     "data": {
      "text/html": [
       "<div>\n",
       "<style scoped>\n",
       "    .dataframe tbody tr th:only-of-type {\n",
       "        vertical-align: middle;\n",
       "    }\n",
       "\n",
       "    .dataframe tbody tr th {\n",
       "        vertical-align: top;\n",
       "    }\n",
       "\n",
       "    .dataframe thead th {\n",
       "        text-align: right;\n",
       "    }\n",
       "</style>\n",
       "<table border=\"1\" class=\"dataframe\">\n",
       "  <thead>\n",
       "    <tr style=\"text-align: right;\">\n",
       "      <th></th>\n",
       "      <th>Reviews</th>\n",
       "      <th>Label</th>\n",
       "    </tr>\n",
       "  </thead>\n",
       "  <tbody>\n",
       "    <tr>\n",
       "      <td>0</td>\n",
       "      <td>looking for the best tactical supplies? look n...</td>\n",
       "      <td>positive</td>\n",
       "    </tr>\n",
       "    <tr>\n",
       "      <td>1</td>\n",
       "      <td>stood in line like an idiot for 5 minutes to p...</td>\n",
       "      <td>negative</td>\n",
       "    </tr>\n",
       "    <tr>\n",
       "      <td>2</td>\n",
       "      <td>another great store with quality equipment. th...</td>\n",
       "      <td>positive</td>\n",
       "    </tr>\n",
       "    <tr>\n",
       "      <td>3</td>\n",
       "      <td>the problem with this store is not that they h...</td>\n",
       "      <td>positive</td>\n",
       "    </tr>\n",
       "    <tr>\n",
       "      <td>4</td>\n",
       "      <td>great place! we went in at almost closing time...</td>\n",
       "      <td>positive</td>\n",
       "    </tr>\n",
       "  </tbody>\n",
       "</table>\n",
       "</div>"
      ],
      "text/plain": [
       "                                             Reviews     Label\n",
       "0  looking for the best tactical supplies? look n...  positive\n",
       "1  stood in line like an idiot for 5 minutes to p...  negative\n",
       "2  another great store with quality equipment. th...  positive\n",
       "3  the problem with this store is not that they h...  positive\n",
       "4  great place! we went in at almost closing time...  positive"
      ]
     },
     "execution_count": 10,
     "metadata": {},
     "output_type": "execute_result"
    }
   ],
   "source": [
    "# Displaying the dataframe after two steps of Pre- processing.\n",
    "dframe.head()"
   ]
  },
  {
   "cell_type": "markdown",
   "metadata": {},
   "source": [
    "#### 2.a.3.STOPWORDS REMOVAL\n",
    "\n",
    "The terms that does not convey any meaning to the data are referred as Stopwords and they are usually filtered to provide more importance to the actual words.\n",
    "A list of English words that are to be ignored while pre-processing the data are passed to the TF-IDF vectoriser and all the words in the list will be removed from the reviews."
   ]
  },
  {
   "cell_type": "markdown",
   "metadata": {},
   "source": [
    "#### 2.a.4. TF-IDF VECTORIZATION\n",
    "\n",
    "To depict the importance of a word to a document in a corpus of documents, a numerical statistics called TF-IDF (Term Frequency- Inverse Document Frequency) Vectorisation is used.\n",
    "\n",
    "It increases proportionally as the word appears in a document and offset by number of documents present in corpus."
   ]
  },
  {
   "cell_type": "code",
   "execution_count": 11,
   "metadata": {},
   "outputs": [],
   "source": [
    "# Segregating every category from the original dataframe.\n",
    "# First 2000 records are the reviews of Fashion category.\n",
    "fashion = dframe.iloc[0:2000]\n",
    "\n",
    "# Next 2000 records are the reviews of Gym category.\n",
    "gyms = dframe.iloc[2000:4000]\n",
    "\n",
    "# Next 2000 records are the reviews of Hair&Salon category.\n",
    "hair_salons = dframe.iloc[4000:6000]\n",
    "\n",
    "category_list = [fashion, gyms, hair_salons]"
   ]
  },
  {
   "cell_type": "code",
   "execution_count": 12,
   "metadata": {},
   "outputs": [
    {
     "name": "stdout",
     "output_type": "stream",
     "text": [
      "Reviews in Fashion has 1464 distinct terms\n",
      "Reviews in Gyms has 1728 distinct terms\n",
      "Reviews in Hair&Salon has 1285 distinct terms\n"
     ]
    }
   ],
   "source": [
    "# For every category selected, reviews are taken in 'reviews' and labels are in 'labels'.\n",
    "for i in range(len(category_list)):\n",
    "    # Reviews are stored in 'reviews' for every category.\n",
    "    reviews = category_list[i]['Reviews']\n",
    "    # Lables are stored in 'labels' for every category.\n",
    "    labels = category_list[i]['Label'].tolist()\n",
    "\n",
    "    # A TF-IDF Vectorizer object is generated to remove the stop words and transform the reviews.\n",
    "    tf_idf_vec = TfidfVectorizer(stop_words=\"english\",min_df=10)\n",
    "\n",
    "    reviews_vectorized = tf_idf_vec.fit_transform(reviews)\n",
    "    \n",
    "    # Converting the vectorised output to dataframe with column names as the features()\n",
    "    curr_dframe = pd.DataFrame(reviews_vectorized.todense(), columns = tf_idf_vec.get_feature_names())\n",
    "    curr_dframe['Label'] = labels\n",
    "    \n",
    "    # Counter for number of terms.\n",
    "    terms = tf_idf_vec.get_feature_names()\n",
    "    # Displaying the distinct terms in every category.\n",
    "    if i == 0:\n",
    "        fashion = curr_dframe\n",
    "        print(\"Reviews in {} has {} distinct terms\" .format('Fashion',len(terms)))\n",
    "    elif i == 1:\n",
    "        gyms = curr_dframe\n",
    "        print(\"Reviews in {} has {} distinct terms\" .format('Gyms',len(terms)))\n",
    "    elif i == 2:\n",
    "        hair_salons = curr_dframe\n",
    "        print(\"Reviews in {} has {} distinct terms\" .format('Hair&Salon',len(terms)))"
   ]
  },
  {
   "cell_type": "markdown",
   "metadata": {},
   "source": [
    "### **b. Build a classification model to distinguish between “positive” and “negative” reviews using one of the following classifiers: Naive Bayes, Logistic Regression, Random Forests**"
   ]
  },
  {
   "cell_type": "markdown",
   "metadata": {},
   "source": [
    "### 2.b.1. CLASSIFICATION MODEL for Fashion Category\n",
    "\n",
    "Logistic Regression classifier is selected out of all 3 classifier due to its highest accuracy at prediction. "
   ]
  },
  {
   "cell_type": "code",
   "execution_count": 13,
   "metadata": {},
   "outputs": [
    {
     "name": "stdout",
     "output_type": "stream",
     "text": [
      "X_fashion_train_shape:(1400, 1464)\n",
      "X_fashion_test_shape:(600, 1464)\n",
      "Y_fashion_train_shape:(1400,)\n",
      "Y_fashion_test_shape:(600,) \n",
      "\n"
     ]
    }
   ],
   "source": [
    "# Splitting the dataset in training and testing dataset for Fashion category. (All the features except last are used in training and last target is used in test.)\n",
    "\n",
    "X_fashion_train, X_fashion_test,Y_fashion_train, Y_fashion_test = train_test_split(fashion.iloc[:,:-1], fashion.iloc[:,-1], test_size = 0.3)\n",
    "\n",
    "# Displaying the shape of each partition so as to check the output of train_test_split().\n",
    "print(\"X_fashion_train_shape:{}\\nX_fashion_test_shape:{}\\nY_fashion_train_shape:{}\\nY_fashion_test_shape:{} \\n\".format(X_fashion_train.shape, X_fashion_test.shape,Y_fashion_train.shape, Y_fashion_test.shape))\n",
    "\n",
    "# Logistic Regression Classifier.\n",
    "logreg = LogisticRegression()\n",
    "\n",
    "# Mapping the training dataset to its test data.\n",
    "logreg.fit(X_fashion_train, Y_fashion_train)\n",
    "\n",
    "# Predicting the target for the test dataset for Fashion category.\n",
    "Y_fashion_pred = logreg.predict(X_fashion_test)"
   ]
  },
  {
   "cell_type": "markdown",
   "metadata": {},
   "source": [
    "### 2.b.2. CLASSIFICATION MODEL for Gyms Category"
   ]
  },
  {
   "cell_type": "code",
   "execution_count": 14,
   "metadata": {},
   "outputs": [
    {
     "name": "stdout",
     "output_type": "stream",
     "text": [
      "X_gyms_train_shape:(1400, 1728)\n",
      "X_gyms_test_shape:(600, 1728)\n",
      "Y_gyms_train_shape:(1400,)\n",
      "Y_gyms_test_shape:(600,) \n",
      "\n"
     ]
    }
   ],
   "source": [
    "# Splitting the dataset in training and testing dataset for Gym category. (All the features except last are used in training and last target is used in test.)\n",
    "X_gyms_train, X_gyms_test,Y_gyms_train, Y_gyms_test = train_test_split(gyms.iloc[:,:-1], gyms.iloc[:,-1], test_size = 0.3)\n",
    "\n",
    "# Displaying the shape of each partition so as to check the output of train_test_split().\n",
    "print(\"X_gyms_train_shape:{}\\nX_gyms_test_shape:{}\\nY_gyms_train_shape:{}\\nY_gyms_test_shape:{} \\n\".format(X_gyms_train.shape, X_gyms_test.shape,Y_gyms_train.shape, Y_gyms_test.shape))\n",
    "\n",
    "# Logistic Regression Classifier.\n",
    "logreg = LogisticRegression()\n",
    "\n",
    "# Mapping the training dataset to its test data.\n",
    "logreg.fit(X_gyms_train, Y_gyms_train)\n",
    "\n",
    "# Predicting the target for the test dataset of Gym dataset.\n",
    "Y_gyms_pred = logreg.predict(X_gyms_test)"
   ]
  },
  {
   "cell_type": "markdown",
   "metadata": {},
   "source": [
    "### 2.b.3.CLASSIFICATION MODEL for Hair_Salons Category"
   ]
  },
  {
   "cell_type": "code",
   "execution_count": 15,
   "metadata": {},
   "outputs": [
    {
     "name": "stdout",
     "output_type": "stream",
     "text": [
      "X_hair_salons_train_shape:(1400, 1285)\n",
      "X_hair_salons_test_shape:(600, 1285)\n",
      "Y_hair_salons_train_shape:(1400,)\n",
      "Y_hair_salons_test_shape:(600,) \n",
      "\n"
     ]
    }
   ],
   "source": [
    "# Splitting the dataset in training and testing dataset for Hair&Salon category. (All the features except last are used in training and last target is used in test.)\n",
    "X_hair_salons_train, X_hair_salons_test,Y_hair_salons_train, Y_hair_salons_test = train_test_split(hair_salons.iloc[:,:-1], hair_salons.iloc[:,-1], test_size = 0.3)\n",
    "\n",
    "# Displaying the shape of each partition so as to check the output of train_test_split().\n",
    "print(\"X_hair_salons_train_shape:{}\\nX_hair_salons_test_shape:{}\\nY_hair_salons_train_shape:{}\\nY_hair_salons_test_shape:{} \\n\".format(X_hair_salons_train.shape, X_hair_salons_test.shape,Y_hair_salons_train.shape, Y_hair_salons_test.shape))\n",
    "\n",
    "# Logistic Regression Classifier.\n",
    "logreg = LogisticRegression()\n",
    "\n",
    "# Mapping the training dataset to its test data.\n",
    "logreg.fit(X_hair_salons_train, Y_hair_salons_train)\n",
    "\n",
    "# Predicting the target for the test dataset of Hair&Salon dataset.\n",
    "Y_hair_salons_pred = logreg.predict(X_hair_salons_test)"
   ]
  },
  {
   "cell_type": "markdown",
   "metadata": {},
   "source": [
    "### **c. Test the predictions of the classification model using an appropriate evaluation strategy. Report and discuss the evaluation results in your notebook.**"
   ]
  },
  {
   "cell_type": "markdown",
   "metadata": {},
   "source": [
    "### 2.c.1 EVALUATING Fashion CATGEORY"
   ]
  },
  {
   "cell_type": "code",
   "execution_count": 16,
   "metadata": {},
   "outputs": [
    {
     "name": "stdout",
     "output_type": "stream",
     "text": [
      "TOTAL ACCURACY:86.0% \n",
      "\n",
      "REPORT:\n",
      "              precision    recall  f1-score   support\n",
      "\n",
      "    negative       0.93      0.72      0.81       245\n",
      "    positive       0.83      0.96      0.89       355\n",
      "\n",
      "    accuracy                           0.86       600\n",
      "   macro avg       0.88      0.84      0.85       600\n",
      "weighted avg       0.87      0.86      0.86       600\n",
      "\n"
     ]
    },
    {
     "data": {
      "application/javascript": [
       "\n",
       "        if (window._pyforest_update_imports_cell) { window._pyforest_update_imports_cell('import matplotlib.pyplot as plt'); }\n",
       "    "
      ],
      "text/plain": [
       "<IPython.core.display.Javascript object>"
      ]
     },
     "metadata": {},
     "output_type": "display_data"
    },
    {
     "data": {
      "application/javascript": [
       "\n",
       "        if (window._pyforest_update_imports_cell) { window._pyforest_update_imports_cell('import matplotlib.pyplot as plt'); }\n",
       "    "
      ],
      "text/plain": [
       "<IPython.core.display.Javascript object>"
      ]
     },
     "metadata": {},
     "output_type": "display_data"
    },
    {
     "data": {
      "application/javascript": [
       "\n",
       "        if (window._pyforest_update_imports_cell) { window._pyforest_update_imports_cell('import matplotlib.pyplot as plt'); }\n",
       "    "
      ],
      "text/plain": [
       "<IPython.core.display.Javascript object>"
      ]
     },
     "metadata": {},
     "output_type": "display_data"
    },
    {
     "data": {
      "application/javascript": [
       "\n",
       "        if (window._pyforest_update_imports_cell) { window._pyforest_update_imports_cell('import matplotlib.pyplot as plt'); }\n",
       "    "
      ],
      "text/plain": [
       "<IPython.core.display.Javascript object>"
      ]
     },
     "metadata": {},
     "output_type": "display_data"
    },
    {
     "data": {
      "image/png": "[encoded data removed]",
      "text/plain": [
       "<Figure size 432x288 with 1 Axes>"
      ]
     },
     "metadata": {
      "needs_background": "light"
     },
     "output_type": "display_data"
    }
   ],
   "source": [
    "# Evaluating the Fashion category prediction through accuracy score by comparing predicted and actual.\n",
    "\n",
    "acc = accuracy_score(Y_fashion_pred, Y_fashion_test)\n",
    "print('TOTAL ACCURACY:{}% \\n'.format(round(acc*100),2))\n",
    "\n",
    "# Displaying the confusion matrix.\n",
    "matrix = confusion_matrix(Y_fashion_test,Y_fashion_pred)\n",
    "#print(\"CONFUSION MATRIX:\\n{}\\n\".format(matrix))\n",
    "\n",
    "# Printing the confusion report\n",
    "report = classification_report(Y_fashion_test, Y_fashion_pred)\n",
    "print(\"REPORT:\\n{}\".format(report))\n",
    "\n",
    "# Representing the confusion matrix\n",
    "fig, ax = plt.subplots(figsize=(6,4))\n",
    "sn.heatmap(matrix, annot=True, cbar = False, fmt = 'd', annot_kws= {'size':16}, cmap= 'Oranges')\n",
    "sn.set(font_scale= 1.5)\n",
    "\n",
    "# Set the text to display in middle.\n",
    "bottom,top = ax.get_ylim()\n",
    "ax.set_ylim(bottom +0.5, top - 0.5)\n",
    "\n",
    "# X and Y axis labels.\n",
    "plt.ylabel('Actual')\n",
    "plt.xlabel('Predicted')\n",
    "plt.show()"
   ]
  },
  {
   "cell_type": "markdown",
   "metadata": {},
   "source": [
    "### 2.c.2. CROSS VALIDATION"
   ]
  },
  {
   "cell_type": "code",
   "execution_count": 17,
   "metadata": {},
   "outputs": [
    {
     "data": {
      "text/plain": [
       "Fold 1    0.864286\n",
       "Fold 2    0.839286\n",
       "Fold 3    0.892857\n",
       "Fold 4    0.846429\n",
       "Fold 5    0.864286\n",
       "dtype: float64"
      ]
     },
     "execution_count": 17,
     "metadata": {},
     "output_type": "execute_result"
    }
   ],
   "source": [
    "# 5 fold Cross validation so as to consider every review as a part of test data once and training dataset as k-1(4) times.\n",
    "acc_scores = cross_val_score(logreg, X_fashion_train, Y_fashion_train, cv=5, scoring=\"accuracy\")\n",
    "\n",
    "# represent the results as a Pandas Series\n",
    "labels = [ \"Fold %d\" % i for i in range(1,len(acc_scores)+1) ]\n",
    "s_acc = pd.Series(acc_scores, index = labels)\n",
    "s_acc"
   ]
  },
  {
   "cell_type": "code",
   "execution_count": 18,
   "metadata": {},
   "outputs": [
    {
     "name": "stdout",
     "output_type": "stream",
     "text": [
      "Mean accuracy: 0.8614\n"
     ]
    }
   ],
   "source": [
    "# Mean accuracy of 5 folds\n",
    "print(\"Mean accuracy: %.4f\" % s_acc.mean() )"
   ]
  },
  {
   "cell_type": "markdown",
   "metadata": {},
   "source": [
    "### 2.c.3. REPEATED K FOLDS"
   ]
  },
  {
   "cell_type": "code",
   "execution_count": 19,
   "metadata": {},
   "outputs": [
    {
     "data": {
      "text/plain": [
       "array([0.87857143, 0.80714286, 0.88214286, 0.84642857, 0.875     ,\n",
       "       0.86071429, 0.81071429, 0.86785714, 0.89285714, 0.875     ,\n",
       "       0.89642857, 0.88928571, 0.88214286, 0.80357143, 0.875     ,\n",
       "       0.88571429, 0.86785714, 0.89642857, 0.84285714, 0.82857143,\n",
       "       0.85357143, 0.86428571, 0.88571429, 0.83928571, 0.88928571,\n",
       "       0.81428571, 0.81428571, 0.85714286, 0.90357143, 0.91071429,\n",
       "       0.85357143, 0.875     , 0.86785714, 0.86428571, 0.85      ,\n",
       "       0.87857143, 0.83571429, 0.875     , 0.87857143, 0.86428571,\n",
       "       0.875     , 0.85357143, 0.89285714, 0.83928571, 0.86071429,\n",
       "       0.88928571, 0.83214286, 0.84642857, 0.86071429, 0.88571429])"
      ]
     },
     "execution_count": 19,
     "metadata": {},
     "output_type": "execute_result"
    }
   ],
   "source": [
    "# Performance is evaluated using the RepeatedKFold.\n",
    "rkf = RepeatedKFold(n_splits=5, n_repeats=10)\n",
    "\n",
    "# RepeatedKFold is passed as the parameter cv.\n",
    "repeated_acc_scores = cross_val_score(logreg, X_fashion_train, Y_fashion_train, cv=rkf, scoring=\"accuracy\")\n",
    "repeated_acc_scores"
   ]
  },
  {
   "cell_type": "code",
   "execution_count": 20,
   "metadata": {},
   "outputs": [
    {
     "data": {
      "text/plain": [
       "0     0.878571\n",
       "1     0.807143\n",
       "2     0.882143\n",
       "3     0.846429\n",
       "4     0.875000\n",
       "5     0.860714\n",
       "6     0.810714\n",
       "7     0.867857\n",
       "8     0.892857\n",
       "9     0.875000\n",
       "10    0.896429\n",
       "11    0.889286\n",
       "12    0.882143\n",
       "13    0.803571\n",
       "14    0.875000\n",
       "15    0.885714\n",
       "16    0.867857\n",
       "17    0.896429\n",
       "18    0.842857\n",
       "19    0.828571\n",
       "dtype: float64"
      ]
     },
     "execution_count": 20,
     "metadata": {},
     "output_type": "execute_result"
    }
   ],
   "source": [
    "# Converting the results to Pandas Series.\n",
    "s_racc = pd.Series(repeated_acc_scores)\n",
    "s_racc.head(20)"
   ]
  },
  {
   "cell_type": "code",
   "execution_count": 21,
   "metadata": {},
   "outputs": [
    {
     "name": "stdout",
     "output_type": "stream",
     "text": [
      "Overall mean accuracy: 0.8635\n",
      "Overall standard deviation in accuracy: 0.0262\n"
     ]
    }
   ],
   "source": [
    "# Calculating average accuracy and standard deviation\n",
    "print(\"Overall mean accuracy: %.4f\" % s_racc.mean() )\n",
    "print(\"Overall standard deviation in accuracy: %.4f\" % s_racc.std() )"
   ]
  },
  {
   "cell_type": "markdown",
   "metadata": {},
   "source": [
    "### 2.c.4. MISCLASSIFIED REVIEWS OF FASHION CATEGORY"
   ]
  },
  {
   "cell_type": "code",
   "execution_count": 22,
   "metadata": {},
   "outputs": [
    {
     "name": "stdout",
     "output_type": "stream",
     "text": [
      "1946: positive\n",
      "1454: negative\n",
      "437: positive\n",
      "1373: positive\n",
      "587: positive\n"
     ]
    }
   ],
   "source": [
    "# Mis classified reviews of Fashion Category.\n",
    "num_examples = 0 \n",
    "for i, predicted_class in enumerate(Y_fashion_pred):\n",
    "    \n",
    "    # If predicted is positive and actual is negative or vice-versa, it is misclassified.\n",
    "    if Y_fashion_test.iloc[i] == 'positive' and predicted_class == 'negative' or Y_fashion_test.iloc[i] == 'negative' and predicted_class == 'positive':\n",
    "        ind = Y_fashion_test.index[i]\n",
    "        print( \"%s: %s\" % ( ind,curr_dframe.loc[ind][\"Label\"] ) )\n",
    "        num_examples += 1\n",
    "    if num_examples == 5:\n",
    "        break"
   ]
  },
  {
   "cell_type": "markdown",
   "metadata": {},
   "source": [
    "### 2.c.5. EVALUATING Gyms CATEGORY"
   ]
  },
  {
   "cell_type": "code",
   "execution_count": 23,
   "metadata": {},
   "outputs": [
    {
     "name": "stdout",
     "output_type": "stream",
     "text": [
      "TOTAL ACCURACY:87.83333333333333% \n",
      "\n",
      "REPORT:\n",
      "              precision    recall  f1-score   support\n",
      "\n",
      "    negative       0.95      0.68      0.79       205\n",
      "    positive       0.86      0.98      0.91       395\n",
      "\n",
      "    accuracy                           0.88       600\n",
      "   macro avg       0.90      0.83      0.85       600\n",
      "weighted avg       0.89      0.88      0.87       600\n",
      "\n"
     ]
    },
    {
     "data": {
      "application/javascript": [
       "\n",
       "        if (window._pyforest_update_imports_cell) { window._pyforest_update_imports_cell('import matplotlib.pyplot as plt'); }\n",
       "    "
      ],
      "text/plain": [
       "<IPython.core.display.Javascript object>"
      ]
     },
     "metadata": {},
     "output_type": "display_data"
    },
    {
     "data": {
      "application/javascript": [
       "\n",
       "        if (window._pyforest_update_imports_cell) { window._pyforest_update_imports_cell('import matplotlib.pyplot as plt'); }\n",
       "    "
      ],
      "text/plain": [
       "<IPython.core.display.Javascript object>"
      ]
     },
     "metadata": {},
     "output_type": "display_data"
    },
    {
     "data": {
      "application/javascript": [
       "\n",
       "        if (window._pyforest_update_imports_cell) { window._pyforest_update_imports_cell('import matplotlib.pyplot as plt'); }\n",
       "    "
      ],
      "text/plain": [
       "<IPython.core.display.Javascript object>"
      ]
     },
     "metadata": {},
     "output_type": "display_data"
    },
    {
     "data": {
      "application/javascript": [
       "\n",
       "        if (window._pyforest_update_imports_cell) { window._pyforest_update_imports_cell('import matplotlib.pyplot as plt'); }\n",
       "    "
      ],
      "text/plain": [
       "<IPython.core.display.Javascript object>"
      ]
     },
     "metadata": {},
     "output_type": "display_data"
    },
    {
     "data": {
      "image/png": "[encoded data removed]",
      "text/plain": [
       "<Figure size 432x288 with 1 Axes>"
      ]
     },
     "metadata": {},
     "output_type": "display_data"
    }
   ],
   "source": [
    "# Evaluating the Gym category prediction through accuracy score by comparing predicted and actual.\n",
    "\n",
    "acc = accuracy_score(Y_gyms_pred, Y_gyms_test)\n",
    "print('TOTAL ACCURACY:{}% \\n'.format(acc*100))\n",
    "\n",
    "# Displaying the confusion matrix.\n",
    "matrix = confusion_matrix(Y_gyms_test,Y_gyms_pred)\n",
    "#print(\"CONFUSION MATRIX:\\n{}\\n\".format(matrix))\n",
    "\n",
    "# Printing the confusion report\n",
    "report = classification_report(Y_gyms_test, Y_gyms_pred)\n",
    "print(\"REPORT:\\n{}\".format(report))\n",
    "\n",
    "# Representing the confusion matrix\n",
    "fig, ax = plt.subplots(figsize=(6,4))\n",
    "sn.heatmap(matrix, annot=True, cbar = False, fmt = 'd', annot_kws= {'size':16}, cmap= 'Oranges')\n",
    "sn.set(font_scale= 1.5)\n",
    "\n",
    "# Set the text to display in middle.\n",
    "bottom,top = ax.get_ylim()\n",
    "ax.set_ylim(bottom +0.5, top - 0.5)\n",
    "\n",
    "# X and Y axis labels.\n",
    "plt.ylabel('Actual')\n",
    "plt.xlabel('Predicted')\n",
    "plt.show()"
   ]
  },
  {
   "cell_type": "markdown",
   "metadata": {},
   "source": [
    "### 2.c.6. CROSS VALIDATION"
   ]
  },
  {
   "cell_type": "code",
   "execution_count": 24,
   "metadata": {},
   "outputs": [
    {
     "data": {
      "text/plain": [
       "Fold 1    0.857651\n",
       "Fold 2    0.896429\n",
       "Fold 3    0.889286\n",
       "Fold 4    0.871429\n",
       "Fold 5    0.878136\n",
       "dtype: float64"
      ]
     },
     "execution_count": 24,
     "metadata": {},
     "output_type": "execute_result"
    }
   ],
   "source": [
    "# 5 fold Cross validation so as to consider every review of Gyms dataset as a part of test data once and training dataset as k-1(4) times.\n",
    "acc_scores = cross_val_score(logreg, X_gyms_train, Y_gyms_train, cv=5, scoring=\"accuracy\")\n",
    "\n",
    "# represent the results as a Pandas Series\n",
    "labels = [ \"Fold %d\" % i for i in range(1,len(acc_scores)+1) ]\n",
    "s_acc = pd.Series(acc_scores, index = labels)\n",
    "s_acc"
   ]
  },
  {
   "cell_type": "code",
   "execution_count": 25,
   "metadata": {},
   "outputs": [
    {
     "name": "stdout",
     "output_type": "stream",
     "text": [
      "Mean accuracy: 0.8786\n"
     ]
    }
   ],
   "source": [
    "# Mean accuracy of 5 folds\n",
    "print(\"Mean accuracy: %.4f\" % s_acc.mean() )"
   ]
  },
  {
   "cell_type": "markdown",
   "metadata": {},
   "source": [
    "### 2.c.7. REPEATED K FOLDS"
   ]
  },
  {
   "cell_type": "code",
   "execution_count": 26,
   "metadata": {},
   "outputs": [
    {
     "data": {
      "text/plain": [
       "array([0.88214286, 0.86785714, 0.88214286, 0.86071429, 0.83928571,\n",
       "       0.83214286, 0.86071429, 0.89285714, 0.88571429, 0.86071429,\n",
       "       0.86428571, 0.88214286, 0.85714286, 0.86785714, 0.85357143,\n",
       "       0.85357143, 0.82142857, 0.88214286, 0.83928571, 0.88214286,\n",
       "       0.85      , 0.83928571, 0.87857143, 0.88928571, 0.86071429,\n",
       "       0.84285714, 0.85357143, 0.875     , 0.87857143, 0.85      ,\n",
       "       0.89642857, 0.86785714, 0.82857143, 0.87142857, 0.86785714,\n",
       "       0.90357143, 0.84642857, 0.87142857, 0.85714286, 0.85714286,\n",
       "       0.875     , 0.83214286, 0.89285714, 0.89285714, 0.825     ,\n",
       "       0.86428571, 0.88571429, 0.86785714, 0.85      , 0.86428571])"
      ]
     },
     "execution_count": 26,
     "metadata": {},
     "output_type": "execute_result"
    }
   ],
   "source": [
    "# Performance is evaluated using the RepeatedKFold.\n",
    "rkf = RepeatedKFold(n_splits=5, n_repeats=10)\n",
    "\n",
    "# RepeatedKFold is passed as the parameter cv.\n",
    "repeated_acc_scores = cross_val_score(logreg, X_fashion_train, Y_fashion_train, cv=rkf, scoring=\"accuracy\")\n",
    "repeated_acc_scores"
   ]
  },
  {
   "cell_type": "code",
   "execution_count": 27,
   "metadata": {},
   "outputs": [
    {
     "data": {
      "text/plain": [
       "0     0.882143\n",
       "1     0.867857\n",
       "2     0.882143\n",
       "3     0.860714\n",
       "4     0.839286\n",
       "5     0.832143\n",
       "6     0.860714\n",
       "7     0.892857\n",
       "8     0.885714\n",
       "9     0.860714\n",
       "10    0.864286\n",
       "11    0.882143\n",
       "12    0.857143\n",
       "13    0.867857\n",
       "14    0.853571\n",
       "15    0.853571\n",
       "16    0.821429\n",
       "17    0.882143\n",
       "18    0.839286\n",
       "19    0.882143\n",
       "dtype: float64"
      ]
     },
     "execution_count": 27,
     "metadata": {},
     "output_type": "execute_result"
    }
   ],
   "source": [
    "# Converting the results to Pandas Series.\n",
    "s_racc = pd.Series(repeated_acc_scores)\n",
    "s_racc.head(20)"
   ]
  },
  {
   "cell_type": "code",
   "execution_count": 28,
   "metadata": {},
   "outputs": [
    {
     "name": "stdout",
     "output_type": "stream",
     "text": [
      "Overall mean accuracy: 0.8641\n",
      "Overall standard deviation in accuracy: 0.0199\n"
     ]
    }
   ],
   "source": [
    "# Calculating average accuracy and standard deviation\n",
    "print(\"Overall mean accuracy: %.4f\" % s_racc.mean() )\n",
    "print(\"Overall standard deviation in accuracy: %.4f\" % s_racc.std() )"
   ]
  },
  {
   "cell_type": "markdown",
   "metadata": {},
   "source": [
    "### 2.c.8. MISCLASSIFIED REVIEWS OF GYM CATEGORY"
   ]
  },
  {
   "cell_type": "code",
   "execution_count": 29,
   "metadata": {},
   "outputs": [
    {
     "name": "stdout",
     "output_type": "stream",
     "text": [
      "1362: positive\n",
      "782: positive\n",
      "17: positive\n",
      "1550: positive\n",
      "1428: positive\n"
     ]
    }
   ],
   "source": [
    "# Mis classified reviews of Gym Category.\n",
    "num_examples = 0 \n",
    "for i, predicted_class in enumerate(Y_gyms_pred):\n",
    "    \n",
    "    # If predicted is positive and actual is negative or vice-versa, it is misclassified.\n",
    "    if Y_gyms_test.iloc[i] == 'positive' and predicted_class == 'negative' or Y_gyms_test.iloc[i] == 'negative' and predicted_class == 'positive':\n",
    "        ind = Y_gyms_test.index[i]\n",
    "        print( \"%s: %s\" % ( ind,curr_dframe.loc[ind][\"Label\"] ) )\n",
    "        num_examples += 1\n",
    "    if num_examples == 5:\n",
    "        break"
   ]
  },
  {
   "cell_type": "markdown",
   "metadata": {},
   "source": [
    "### 2.c.9. EVALUATING Hair_Salons CATEGORY"
   ]
  },
  {
   "cell_type": "code",
   "execution_count": 30,
   "metadata": {},
   "outputs": [
    {
     "name": "stdout",
     "output_type": "stream",
     "text": [
      "TOTAL ACCURACY:91.33333333333333 \n",
      "\n",
      "REPORT:\n",
      "              precision    recall  f1-score   support\n",
      "\n",
      "    negative       0.97      0.57      0.72       117\n",
      "    positive       0.91      1.00      0.95       483\n",
      "\n",
      "    accuracy                           0.91       600\n",
      "   macro avg       0.94      0.78      0.83       600\n",
      "weighted avg       0.92      0.91      0.90       600\n",
      "\n"
     ]
    },
    {
     "data": {
      "application/javascript": [
       "\n",
       "        if (window._pyforest_update_imports_cell) { window._pyforest_update_imports_cell('import matplotlib.pyplot as plt'); }\n",
       "    "
      ],
      "text/plain": [
       "<IPython.core.display.Javascript object>"
      ]
     },
     "metadata": {},
     "output_type": "display_data"
    },
    {
     "data": {
      "application/javascript": [
       "\n",
       "        if (window._pyforest_update_imports_cell) { window._pyforest_update_imports_cell('import matplotlib.pyplot as plt'); }\n",
       "    "
      ],
      "text/plain": [
       "<IPython.core.display.Javascript object>"
      ]
     },
     "metadata": {},
     "output_type": "display_data"
    },
    {
     "data": {
      "application/javascript": [
       "\n",
       "        if (window._pyforest_update_imports_cell) { window._pyforest_update_imports_cell('import matplotlib.pyplot as plt'); }\n",
       "    "
      ],
      "text/plain": [
       "<IPython.core.display.Javascript object>"
      ]
     },
     "metadata": {},
     "output_type": "display_data"
    },
    {
     "data": {
      "application/javascript": [
       "\n",
       "        if (window._pyforest_update_imports_cell) { window._pyforest_update_imports_cell('import matplotlib.pyplot as plt'); }\n",
       "    "
      ],
      "text/plain": [
       "<IPython.core.display.Javascript object>"
      ]
     },
     "metadata": {},
     "output_type": "display_data"
    },
    {
     "data": {
      "image/png": "[encoded data removed]",
      "text/plain": [
       "<Figure size 432x288 with 1 Axes>"
      ]
     },
     "metadata": {},
     "output_type": "display_data"
    }
   ],
   "source": [
    "# Evaluating the Hair&Salon category prediction through accuracy score by comparing predicted and actual.\n",
    "acc = accuracy_score(Y_hair_salons_pred, Y_hair_salons_test)\n",
    "print('TOTAL ACCURACY:{} \\n'.format(acc*100))\n",
    "\n",
    "# Displaying the confusion matrix.\n",
    "matrix = confusion_matrix(Y_hair_salons_pred,Y_hair_salons_test)\n",
    "#print(\"CONFUSION MATRIX:\\n{}\\n\".format(matrix))\n",
    "\n",
    "# Printing the confusion report\n",
    "report = classification_report(Y_hair_salons_test, Y_hair_salons_pred)\n",
    "print(\"REPORT:\\n{}\".format(report))\n",
    "\n",
    "# Representing the confusion matrix\n",
    "fig, ax = plt.subplots(figsize=(6,4))\n",
    "sn.heatmap(matrix, annot=True, cbar = False, fmt = 'd', annot_kws= {'size':16}, cmap= 'Oranges')\n",
    "sn.set(font_scale= 1.5)\n",
    "\n",
    "# Set the text to display in middle.\n",
    "bottom,top = ax.get_ylim()\n",
    "ax.set_ylim(bottom +0.5, top - 0.5)\n",
    "\n",
    "# X and Y axis labels.\n",
    "plt.ylabel('Actual')\n",
    "plt.xlabel('Predicted')\n",
    "plt.show()\n"
   ]
  },
  {
   "cell_type": "markdown",
   "metadata": {},
   "source": [
    "### 2.c.10. CROSS VALIDATION"
   ]
  },
  {
   "cell_type": "code",
   "execution_count": 31,
   "metadata": {},
   "outputs": [
    {
     "data": {
      "text/plain": [
       "Fold 1    0.871429\n",
       "Fold 2    0.871429\n",
       "Fold 3    0.864286\n",
       "Fold 4    0.878571\n",
       "Fold 5    0.878571\n",
       "dtype: float64"
      ]
     },
     "execution_count": 31,
     "metadata": {},
     "output_type": "execute_result"
    }
   ],
   "source": [
    "# 5 fold Cross validation so as to consider every review of Hair_Salon dataset as a part of test data once and training dataset as k-1(4) times.\n",
    "acc_scores = cross_val_score(logreg, X_hair_salons_train, Y_hair_salons_train, cv=5, scoring=\"accuracy\")\n",
    "\n",
    "# represent the results as a Pandas Series\n",
    "labels = [ \"Fold %d\" % i for i in range(1,len(acc_scores)+1) ]\n",
    "s_acc = pd.Series(acc_scores, index = labels)\n",
    "s_acc"
   ]
  },
  {
   "cell_type": "code",
   "execution_count": 32,
   "metadata": {},
   "outputs": [
    {
     "name": "stdout",
     "output_type": "stream",
     "text": [
      "Mean accuracy: 0.8729\n"
     ]
    }
   ],
   "source": [
    "# Mean accuracy of 5 folds\n",
    "print(\"Mean accuracy: %.4f\" % s_acc.mean() )"
   ]
  },
  {
   "cell_type": "markdown",
   "metadata": {},
   "source": [
    "### 2.c.11. REPEATED K FOLDS"
   ]
  },
  {
   "cell_type": "code",
   "execution_count": 33,
   "metadata": {},
   "outputs": [
    {
     "data": {
      "text/plain": [
       "array([0.825     , 0.89285714, 0.85357143, 0.86785714, 0.89285714,\n",
       "       0.87142857, 0.87857143, 0.86428571, 0.81428571, 0.88214286,\n",
       "       0.89285714, 0.85      , 0.84642857, 0.86785714, 0.88928571,\n",
       "       0.83928571, 0.82142857, 0.86428571, 0.86428571, 0.90357143,\n",
       "       0.86785714, 0.875     , 0.88571429, 0.825     , 0.88214286,\n",
       "       0.88571429, 0.87857143, 0.82857143, 0.86071429, 0.85714286,\n",
       "       0.90357143, 0.86071429, 0.86785714, 0.83571429, 0.85      ,\n",
       "       0.84642857, 0.87857143, 0.86785714, 0.825     , 0.87142857,\n",
       "       0.83928571, 0.83928571, 0.86428571, 0.85357143, 0.87857143,\n",
       "       0.87857143, 0.83928571, 0.87142857, 0.88571429, 0.83571429])"
      ]
     },
     "execution_count": 33,
     "metadata": {},
     "output_type": "execute_result"
    }
   ],
   "source": [
    "# Performance is evaluated using the RepeatedKFold.\n",
    "rkf = RepeatedKFold(n_splits=5, n_repeats=10)\n",
    "\n",
    "# RepeatedKFold is passed as the parameter cv.\n",
    "repeated_acc_scores = cross_val_score(logreg, X_fashion_train, Y_fashion_train, cv=rkf, scoring=\"accuracy\")\n",
    "repeated_acc_scores"
   ]
  },
  {
   "cell_type": "code",
   "execution_count": 34,
   "metadata": {},
   "outputs": [
    {
     "data": {
      "text/plain": [
       "0     0.825000\n",
       "1     0.892857\n",
       "2     0.853571\n",
       "3     0.867857\n",
       "4     0.892857\n",
       "5     0.871429\n",
       "6     0.878571\n",
       "7     0.864286\n",
       "8     0.814286\n",
       "9     0.882143\n",
       "10    0.892857\n",
       "11    0.850000\n",
       "12    0.846429\n",
       "13    0.867857\n",
       "14    0.889286\n",
       "15    0.839286\n",
       "16    0.821429\n",
       "17    0.864286\n",
       "18    0.864286\n",
       "19    0.903571\n",
       "dtype: float64"
      ]
     },
     "execution_count": 34,
     "metadata": {},
     "output_type": "execute_result"
    }
   ],
   "source": [
    "# Converting the results to Pandas Series.\n",
    "s_racc = pd.Series(repeated_acc_scores)\n",
    "s_racc.head(20)"
   ]
  },
  {
   "cell_type": "code",
   "execution_count": 35,
   "metadata": {},
   "outputs": [
    {
     "name": "stdout",
     "output_type": "stream",
     "text": [
      "Overall mean accuracy: 0.8624\n",
      "Overall standard deviation in accuracy: 0.0226\n"
     ]
    }
   ],
   "source": [
    "# Calculating average accuracy and standard deviation\n",
    "print(\"Overall mean accuracy: %.4f\" % s_racc.mean() )\n",
    "print(\"Overall standard deviation in accuracy: %.4f\" % s_racc.std() )"
   ]
  },
  {
   "cell_type": "markdown",
   "metadata": {},
   "source": [
    "### 2.c.12. MISCLASSIFIED REVIEWS OF HAIR_SALON CATEGORY"
   ]
  },
  {
   "cell_type": "code",
   "execution_count": 36,
   "metadata": {},
   "outputs": [
    {
     "name": "stdout",
     "output_type": "stream",
     "text": [
      "115: negative\n",
      "1152: negative\n",
      "1922: negative\n",
      "1544: negative\n",
      "1382: negative\n"
     ]
    }
   ],
   "source": [
    "# Mis classified reviews of Hair&Salon Category.\n",
    "num_examples = 0 \n",
    "for i, predicted_class in enumerate(Y_hair_salons_pred):\n",
    "    \n",
    "    # If predicted is positive and actual is negative or vice-versa, it is misclassified.\n",
    "    if Y_hair_salons_test.iloc[i] == 'positive' and predicted_class == 'negative' or Y_hair_salons_test.iloc[i] == 'negative' and predicted_class == 'positive':\n",
    "        ind = Y_hair_salons_test.index[i]\n",
    "        print( \"%s: %s\" % ( ind,curr_dframe.loc[ind][\"Label\"] ) )\n",
    "        num_examples += 1\n",
    "    if num_examples == 5:\n",
    "        break"
   ]
  },
  {
   "cell_type": "markdown",
   "metadata": {},
   "source": [
    "### TASK 3: \n",
    "\n",
    "### **Evaluate the performance of each of your three classification models when applied to data from the other two selected categories. That is, for the selected categories (A,B,C), run the experiments:**"
   ]
  },
  {
   "cell_type": "markdown",
   "metadata": {},
   "source": [
    "Reviews and Labels from collective reviews irrwespective of the category are assigned to dframe_reviews and dframe_labels.\n",
    "\n",
    "All the reviews are pre-processed using the TF-IDF Vectorizer."
   ]
  },
  {
   "cell_type": "code",
   "execution_count": 37,
   "metadata": {},
   "outputs": [
    {
     "data": {
      "text/plain": [
       "(6000, 3387)"
      ]
     },
     "execution_count": 37,
     "metadata": {},
     "output_type": "execute_result"
    }
   ],
   "source": [
    "# Collectively converting the reviews of all the 3 selected categories to TF-IDF vectors.\n",
    "# dframe_reviews stores all the Reviews.\n",
    "dframe_reviews = dframe['Reviews']\n",
    "\n",
    "# dframe_labels stores all the Label.\n",
    "dframe_labels = dframe['Label'].tolist()\n",
    "\n",
    "# A TF-IDF Vectorizer object is generated to remove the stop words and transform the reviews.\n",
    "tfidf_vec = TfidfVectorizer(stop_words=\"english\",min_df=10)\n",
    "\n",
    "dframe_reviews_vectorized = tfidf_vec.fit_transform(dframe_reviews)\n",
    "\n",
    "# Converting the vectorised output to dataframe with column names as the features()\n",
    "curr_dframe = pd.DataFrame(dframe_reviews_vectorized.todense(), columns = tfidf_vec.get_feature_names())\n",
    "\n",
    "# Setting the Target column in the dataframe with labels\n",
    "curr_dframe['Label'] = dframe_labels\n",
    "\n",
    "# Displaying the shape of dataframe.\n",
    "curr_dframe.shape"
   ]
  },
  {
   "cell_type": "markdown",
   "metadata": {},
   "source": [
    "Dividing the data into 3 categories."
   ]
  },
  {
   "cell_type": "code",
   "execution_count": 38,
   "metadata": {},
   "outputs": [],
   "source": [
    "# Segregating the data into 3 categories of fashion, gym and hair&salon.\n",
    "\n",
    "# Every category consists of 2000 reviews. So, fetching the first 2000 reviews in fashion dataframe.\n",
    "fashion_dframe = curr_dframe.iloc[0:2000,:]\n",
    "fashion_dframe['Label'] = dframe_labels[:2000]\n",
    "\n",
    "# The next 2000 reviews are extracted in gyms dataframe.\n",
    "gyms_dframe = curr_dframe.iloc[2000:4000,:]\n",
    "gyms_dframe['Label'] = dframe_labels[2000:4000]\n",
    "\n",
    "# The last 2000 reviews are extracted in hair_salon dataframe.\n",
    "hair_salons_dframe = curr_dframe.iloc[4000:6000,:]\n",
    "hair_salons_dframe['Label'] = dframe_labels[4000:]"
   ]
  },
  {
   "cell_type": "code",
   "execution_count": 39,
   "metadata": {},
   "outputs": [
    {
     "name": "stdout",
     "output_type": "stream",
     "text": [
      "Fashion dataframe shape: (2000, 3387)\n",
      "Gyms dataframe shape: (2000, 3387)\n",
      "Hair and Salons dataframe shape: (2000, 3387)\n"
     ]
    }
   ],
   "source": [
    "# Displaying the shape of every dataframe so as to ensure number of reviews within them.\n",
    "\n",
    "print('Fashion dataframe shape:',fashion_dframe.shape)\n",
    "print('Gyms dataframe shape:',gyms_dframe.shape)\n",
    "print('Hair and Salons dataframe shape:',hair_salons_dframe.shape)"
   ]
  },
  {
   "cell_type": "markdown",
   "metadata": {},
   "source": [
    "### **a. Train a classification model on the data from “Category A”. Evaluate its performance on data from “Category B” and data from “Category C”.**"
   ]
  },
  {
   "cell_type": "code",
   "execution_count": 40,
   "metadata": {},
   "outputs": [
    {
     "name": "stdout",
     "output_type": "stream",
     "text": [
      "Accuracy when Training on \"Fashion\" and Testing on \"Gyms\"= 87.0%\n",
      "Accuracy when Training on \"Fashion\" and Testing on \"Hair and Salon\"= 92.0%\n"
     ]
    }
   ],
   "source": [
    "# In order to train the model on the Category A which is Fashion in this case, considering the fashion dataframe as the training dataset\n",
    "# All the attributes are considered as X_train data except the target value which is taken into account as Y_train data.\n",
    "X_fashion_train = fashion_dframe.iloc[:,:-1]\n",
    "Y_fashion_train = fashion_dframe['Label']\n",
    "\n",
    "# Building a Logistic Regression model.\n",
    "logReg = LogisticRegression()\n",
    "# Training the model on fashion data.\n",
    "logReg.fit(X_fashion_train, Y_fashion_train)\n",
    "\n",
    "# In order to evaluate the performance of the model on the Category B and category C, taking category B as gyms here.\n",
    "# The Gyms dataframe is considered as the Test Dataset.\n",
    "# All the features except label are considered in X and the target is taken into Y.\n",
    "X_gyms_test = gyms_dframe.iloc[:,:-1]\n",
    "Y_gyms_test = gyms_dframe['Label']\n",
    "\n",
    "# Predicting the ratings of gyms test data using the logistic regression model trained on fashion data.\n",
    "Y_gyms_pred = logReg.predict(X_gyms_test)\n",
    "\n",
    "# Evaluating the performance of the trained logistic regression model on gyms data.\n",
    "acc_score = accuracy_score(Y_gyms_pred, Y_gyms_test)\n",
    "print('Accuracy when Training on \"{}\" and Testing on \"{}\"= {}%'.format('Fashion','Gyms',round(acc_score*100),2))\n",
    "\n",
    "# In order to evaluate the performance of the model on the Category B and category C, considering category C as hair_salon.\n",
    "# The Hair_Salon dataframe is considered as the Test Dataset.\n",
    "# All the features except label are considered in X and the target is taken into Y.\n",
    "X_hair_salons_test = hair_salons_dframe.iloc[:,:-1]\n",
    "Y_hair_salons_test = hair_salons_dframe['Label']\n",
    "\n",
    "# Predicting the ratings of hair_salon test data using the logistic regression model trained on fashion data.\n",
    "Y_hair_salons_pred = logReg.predict(X_hair_salons_test)\n",
    "\n",
    "# Evaluating the performance of the trained logistic regression model on hair_salon data.\n",
    "acc_score = accuracy_score(Y_hair_salons_test, Y_hair_salons_pred)\n",
    "print('Accuracy when Training on \"{}\" and Testing on \"{}\"= {}%'.format('Fashion','Hair and Salon',round(acc_score*100),2))"
   ]
  },
  {
   "cell_type": "markdown",
   "metadata": {},
   "source": [
    "### **b. Train a classification model on the data from “Category B”. Evaluate its performance on data from “Category A” and data from “Category C”.**"
   ]
  },
  {
   "cell_type": "code",
   "execution_count": 41,
   "metadata": {},
   "outputs": [
    {
     "name": "stdout",
     "output_type": "stream",
     "text": [
      "Accuracy when Training on \"Gyms\" and Testing on \"Fashion\"= 86.25%\n",
      "Accuracy when Training on \"Gyms\" and Testing on \"Hair and Salon\"= 92.25%\n"
     ]
    }
   ],
   "source": [
    "# In order to train the model on the Category B which is Gyms in this case, considering the gyms dataframe as the training dataset.\n",
    "# All the attributes are considered as X_train data except the target value which is taken into account as Y_train data.\n",
    "X_gyms_train = gyms_dframe.iloc[:,:-1]\n",
    "Y_gyms_train = gyms_dframe['Label']\n",
    "\n",
    "# Building a Logistic Regression model.\n",
    "logReg = LogisticRegression()\n",
    "# Training the model on gyms data.\n",
    "logReg.fit(X_gyms_train, Y_gyms_train)\n",
    "\n",
    "# In order to evaluate the performance of the model on the Category A and category C, taking category A as fashion here.\n",
    "# The Fashion dataframe is considered as the Test Dataset.\n",
    "# All the features except label are considered in X and the target is taken into Y.\n",
    "X_fashion_test = fashion_dframe.iloc[:,:-1]\n",
    "Y_fashion_test = fashion_dframe['Label']\n",
    "\n",
    "# Predicting the ratings of fashion test data using the logistic regression model trained on gyms data.\n",
    "Y_fashion_pred = logReg.predict(X_fashion_test)\n",
    "\n",
    "# Evaluating the performance of the trained logistic regression model on fashion data.\n",
    "acc_score = accuracy_score(Y_fashion_pred, Y_fashion_test)\n",
    "print('Accuracy when Training on \"{}\" and Testing on \"{}\"= {}%'.format('Gyms','Fashion',acc_score*100))\n",
    "\n",
    "# In order to evaluate the performance of the model on the Category B and category C, considering category C as hair_salon.\n",
    "# The Hair_Salon dataframe is considered as the Test Dataset.\n",
    "# All the features except label are considered in X and the target is taken into Y.\n",
    "X_hair_salons_test = hair_salons_dframe.iloc[:,:-1]\n",
    "Y_hair_salons_test = hair_salons_dframe['Label']\n",
    "\n",
    "# Predicting the ratings of hair_salon test data using the logistic regression model trained on gyms data.\n",
    "Y_hair_salons_pred = logReg.predict(X_hair_salons_test)\n",
    "\n",
    "# Evaluating the performance of the trained logistic regression model on hair_salon data.\n",
    "acc_score = accuracy_score(Y_hair_salons_test, Y_hair_salons_pred)\n",
    "print('Accuracy when Training on \"{}\" and Testing on \"{}\"= {}%'.format('Gyms','Hair and Salon',acc_score*100))"
   ]
  },
  {
   "cell_type": "markdown",
   "metadata": {},
   "source": [
    "### **c. Train a classification model on the data from “Category C”. Evaluate its performance on data from “Category A” and data from “Category B”.**"
   ]
  },
  {
   "cell_type": "code",
   "execution_count": 42,
   "metadata": {},
   "outputs": [
    {
     "name": "stdout",
     "output_type": "stream",
     "text": [
      "Accuracy when Training on \"Hair n Salons\" and Testing on \"Fashion\"= 78.4%\n",
      "Accuracy when Training on \"Hair and Salon\" and Testing on \"Gyms\"= 77.4%\n"
     ]
    }
   ],
   "source": [
    "# In order to train the model on the Category C which is Hair_Salon in this case, considering the Hair_Salon dataframe as the training dataset.\n",
    "# All the attributes are considered as X_train data except the target value which is taken into account as Y_train data.\n",
    "X_hair_salons_train = hair_salons_dframe.iloc[:,:-1]\n",
    "Y_hair_salons_train = hair_salons_dframe['Label']\n",
    "\n",
    "# Building a Logistic Regression model.\n",
    "logReg = LogisticRegression()\n",
    "# Training the model on gyms data.\n",
    "logReg.fit(X_hair_salons_train, Y_hair_salons_train)\n",
    "\n",
    "# In order to evaluate the performance of the model on the Category A and category B, taking category A as fashion here.\n",
    "# The Fashion dataframe is considered as the Test Dataset.\n",
    "# All the features except label are considered in X and the target is taken into Y.\n",
    "X_fashion_test = fashion_dframe.iloc[:,:-1]\n",
    "Y_fashion_test = fashion_dframe['Label']\n",
    "\n",
    "# Predicting the ratings of fashion test data using the logistic regression model trained on hair_salon data.\n",
    "Y_fashion_pred = logReg.predict(X_fashion_test)\n",
    "\n",
    "# Evaluating the performance of the trained logistic regression model on fashion data.\n",
    "acc_score = accuracy_score(Y_fashion_pred, Y_fashion_test)\n",
    "print('Accuracy when Training on \"{}\" and Testing on \"{}\"= {}%'.format('Hair n Salons','Fashion',acc_score*100))\n",
    "\n",
    "# In order to evaluate the performance of the model on the Category A and category B, considering category B as gyms.\n",
    "# The gyms dataframe is considered as the Test Dataset.\n",
    "# All the features except label are considered in X and the target is taken into Y.\n",
    "X_gyms_test = gyms_dframe.iloc[:,:-1]\n",
    "Y_gyms_test = gyms_dframe['Label']\n",
    "\n",
    "# Predicting the ratings of gyms test data using the logistic regression model trained on hair_salon dataset.\n",
    "Y_gyms_pred = logReg.predict(X_gyms_test)\n",
    "\n",
    "# Evaluating the performance of the trained logistic regression model on gyms data.\n",
    "acc_score = accuracy_score(Y_gyms_pred, Y_gyms_test)\n",
    "print('Accuracy when Training on \"{}\" and Testing on \"{}\"= {}%'.format('Hair and Salon', 'Gyms', acc_score*100))"
   ]
  },
  {
   "cell_type": "markdown",
   "metadata": {},
   "source": [
    "### CONCLUSION"
   ]
  },
  {
   "cell_type": "markdown",
   "metadata": {},
   "source": [
    "To begin with,\n",
    "- Large amount of reviews from Fashion, Gyms and Hair_salon are scraped with the help of BeautifulSoup.\n",
    "\n",
    "- Initially, all the main links are fetched using the fetch_all functionality of the scraper and out of which the 3 selected category links are stored in a list for further reference.\n",
    "\n",
    "- For every main category, requests.get() function fetches the links through 'a' tag. Further contents of href tags are fetched.\n",
    "\n",
    "- Further for every category, all the contents are scraped using the BeautifulSoup() and reviews are extracted from it using the 'p' tags. \n",
    "\n",
    "- Based on the number of ratings, target class is decided for every review and every review along with its target class is saved in a comma separated file.\n",
    "\n",
    "- Further a number of pre-processing steps are performed over text reviews:\n",
    "\t1. Data Normalization in order to transform the text into a single canonical form.\n",
    "\t2. Lemmatization in order to group the various inflected terms together so as to analyse them as a single term considering the context.\n",
    "\t3. Stopwords removal so as to provide more importance to the actual words instead of low meaning conveying terms.\n",
    "\t4. Term Frequency Inverse Document Vectorisation.\n",
    "\t\n",
    "- Following which Logistic Regression model is built for every category (Fashion, Gyms, Hair_Salon) and evaluating the performance of each category through Confusion matrix and depicting the misclassified reviews.\n",
    "\n",
    "- Next, Training the model with every category acting as training dataset and testing its performance over other two categories is evaluated.\n",
    "\n",
    "- Accuracy while model trained on Fashion dataset and Gyms dataset and testing on Gyms and Hair_Salon dataset comes to be the maximum counting to approximately 87 % and 92.5 %.\n",
    "\n",
    "- Logistic Regression classification model proves to be most efficient among the three classification models.\n",
    "\n",
    "- The performance of every model is evaluated using a number of techniques:\n",
    "    1. Confusion Matrix\n",
    "    2. K Fold Cross Validation\n",
    "    3. Repeated Fold Cross Validation\n",
    "    4. Misclassifications\n"
   ]
  }
 ],
 "metadata": {
  "kernelspec": {
   "display_name": "Python 3",
   "language": "python",
   "name": "python3"
  },
  "language_info": {
   "codemirror_mode": {
    "name": "ipython",
    "version": 3
   },
   "file_extension": ".py",
   "mimetype": "text/x-python",
   "name": "python",
   "nbconvert_exporter": "python",
   "pygments_lexer": "ipython3",
   "version": "3.7.3"
  }
 },
 "nbformat": 4,
 "nbformat_minor": 2
}
