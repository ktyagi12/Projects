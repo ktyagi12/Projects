{
 "cells": [
  {
   "cell_type": "code",
   "execution_count": 2,
   "metadata": {},
   "outputs": [],
   "source": [
    "import pandas as pd\n",
    "df = pd.read_csv(r\"TestElectionCSV.csv\")"
   ]
  },
  {
   "cell_type": "code",
   "execution_count": 3,
   "metadata": {},
   "outputs": [
    {
     "data": {
      "text/html": [
       "<div>\n",
       "<style scoped>\n",
       "    .dataframe tbody tr th:only-of-type {\n",
       "        vertical-align: middle;\n",
       "    }\n",
       "\n",
       "    .dataframe tbody tr th {\n",
       "        vertical-align: top;\n",
       "    }\n",
       "\n",
       "    .dataframe thead th {\n",
       "        text-align: right;\n",
       "    }\n",
       "</style>\n",
       "<table border=\"1\" class=\"dataframe\">\n",
       "  <thead>\n",
       "    <tr style=\"text-align: right;\">\n",
       "      <th></th>\n",
       "      <th>SR</th>\n",
       "      <th>CANDIDATE</th>\n",
       "      <th>PARTY</th>\n",
       "      <th>CRIMINAL_RECORD</th>\n",
       "      <th>SEVERITY</th>\n",
       "      <th>FAMILY_MEMBERS_IN_POLITICS</th>\n",
       "      <th>PROPERTY</th>\n",
       "    </tr>\n",
       "  </thead>\n",
       "  <tbody>\n",
       "    <tr>\n",
       "      <td>0</td>\n",
       "      <td>30</td>\n",
       "      <td>OMAR ABDULLAH</td>\n",
       "      <td>PDP</td>\n",
       "      <td>y</td>\n",
       "      <td>7</td>\n",
       "      <td>NaN</td>\n",
       "      <td>358995.6667</td>\n",
       "    </tr>\n",
       "    <tr>\n",
       "      <td>1</td>\n",
       "      <td>31</td>\n",
       "      <td>MEHBOOBA MUFTI</td>\n",
       "      <td>PDP</td>\n",
       "      <td>Y</td>\n",
       "      <td>7</td>\n",
       "      <td>2.0</td>\n",
       "      <td>369545.6667</td>\n",
       "    </tr>\n",
       "    <tr>\n",
       "      <td>2</td>\n",
       "      <td>32</td>\n",
       "      <td>ASASSUDIN OWAISSI</td>\n",
       "      <td>MINORITY</td>\n",
       "      <td>N</td>\n",
       "      <td>0</td>\n",
       "      <td>NaN</td>\n",
       "      <td>380095.6667</td>\n",
       "    </tr>\n",
       "    <tr>\n",
       "      <td>3</td>\n",
       "      <td>33</td>\n",
       "      <td>MAMATA BANERJEE</td>\n",
       "      <td>TMC</td>\n",
       "      <td>Y</td>\n",
       "      <td>1</td>\n",
       "      <td>0.0</td>\n",
       "      <td>390645.6667</td>\n",
       "    </tr>\n",
       "    <tr>\n",
       "      <td>4</td>\n",
       "      <td>34</td>\n",
       "      <td>NITISH KUMAR</td>\n",
       "      <td>BJP</td>\n",
       "      <td>Y</td>\n",
       "      <td>3</td>\n",
       "      <td>0.0</td>\n",
       "      <td>401195.6667</td>\n",
       "    </tr>\n",
       "    <tr>\n",
       "      <td>5</td>\n",
       "      <td>35</td>\n",
       "      <td>TEJASVI PRATAP</td>\n",
       "      <td>RJD</td>\n",
       "      <td>Y</td>\n",
       "      <td>7</td>\n",
       "      <td>9.0</td>\n",
       "      <td>411745.6667</td>\n",
       "    </tr>\n",
       "    <tr>\n",
       "      <td>6</td>\n",
       "      <td>36</td>\n",
       "      <td>TEJ PRATAP</td>\n",
       "      <td>RJD</td>\n",
       "      <td>Y</td>\n",
       "      <td>9</td>\n",
       "      <td>9.0</td>\n",
       "      <td>422295.6667</td>\n",
       "    </tr>\n",
       "    <tr>\n",
       "      <td>7</td>\n",
       "      <td>37</td>\n",
       "      <td>MANOHAR LAL KHATTAR</td>\n",
       "      <td>CONGRESS</td>\n",
       "      <td>N</td>\n",
       "      <td>0</td>\n",
       "      <td>3.0</td>\n",
       "      <td>432845.6667</td>\n",
       "    </tr>\n",
       "    <tr>\n",
       "      <td>8</td>\n",
       "      <td>38</td>\n",
       "      <td>VIRBHADRA SINGH</td>\n",
       "      <td>CONGRESS</td>\n",
       "      <td>Y</td>\n",
       "      <td>4</td>\n",
       "      <td>3.0</td>\n",
       "      <td>443395.6667</td>\n",
       "    </tr>\n",
       "    <tr>\n",
       "      <td>9</td>\n",
       "      <td>39</td>\n",
       "      <td>NAVEEN PATNAIK</td>\n",
       "      <td>TMC</td>\n",
       "      <td>Y</td>\n",
       "      <td>6</td>\n",
       "      <td>2.0</td>\n",
       "      <td>453945.6667</td>\n",
       "    </tr>\n",
       "    <tr>\n",
       "      <td>10</td>\n",
       "      <td>40</td>\n",
       "      <td>RAHUL GANDHI</td>\n",
       "      <td>CONGRESS</td>\n",
       "      <td>N</td>\n",
       "      <td>0</td>\n",
       "      <td>4.0</td>\n",
       "      <td>464495.6667</td>\n",
       "    </tr>\n",
       "    <tr>\n",
       "      <td>11</td>\n",
       "      <td>41</td>\n",
       "      <td>BIPLAB KUMAR DEV</td>\n",
       "      <td>DMK</td>\n",
       "      <td>Y</td>\n",
       "      <td>6</td>\n",
       "      <td>2.0</td>\n",
       "      <td>475045.6667</td>\n",
       "    </tr>\n",
       "    <tr>\n",
       "      <td>12</td>\n",
       "      <td>42</td>\n",
       "      <td>MANOHAR PARRIKAR</td>\n",
       "      <td>DMK</td>\n",
       "      <td>N</td>\n",
       "      <td>0</td>\n",
       "      <td>1.0</td>\n",
       "      <td>485595.6667</td>\n",
       "    </tr>\n",
       "    <tr>\n",
       "      <td>13</td>\n",
       "      <td>43</td>\n",
       "      <td>LAL KRISHNA ADVANI</td>\n",
       "      <td>AIDMK</td>\n",
       "      <td>Y</td>\n",
       "      <td>4</td>\n",
       "      <td>1.0</td>\n",
       "      <td>496145.6667</td>\n",
       "    </tr>\n",
       "    <tr>\n",
       "      <td>14</td>\n",
       "      <td>44</td>\n",
       "      <td>PANKAJA MUNDE</td>\n",
       "      <td>NaN</td>\n",
       "      <td>Y</td>\n",
       "      <td>7</td>\n",
       "      <td>3.0</td>\n",
       "      <td>506695.6667</td>\n",
       "    </tr>\n",
       "    <tr>\n",
       "      <td>15</td>\n",
       "      <td>45</td>\n",
       "      <td>PRAMOD MAHAJAN</td>\n",
       "      <td>AIDMK</td>\n",
       "      <td>N</td>\n",
       "      <td>0</td>\n",
       "      <td>0.0</td>\n",
       "      <td>517245.6667</td>\n",
       "    </tr>\n",
       "  </tbody>\n",
       "</table>\n",
       "</div>"
      ],
      "text/plain": [
       "    SR            CANDIDATE     PARTY CRIMINAL_RECORD  SEVERITY  \\\n",
       "0   30        OMAR ABDULLAH       PDP               y         7   \n",
       "1   31       MEHBOOBA MUFTI       PDP               Y         7   \n",
       "2   32    ASASSUDIN OWAISSI  MINORITY               N         0   \n",
       "3   33      MAMATA BANERJEE       TMC               Y         1   \n",
       "4   34         NITISH KUMAR       BJP               Y         3   \n",
       "5   35       TEJASVI PRATAP       RJD               Y         7   \n",
       "6   36           TEJ PRATAP       RJD               Y         9   \n",
       "7   37  MANOHAR LAL KHATTAR  CONGRESS               N         0   \n",
       "8   38      VIRBHADRA SINGH  CONGRESS               Y         4   \n",
       "9   39       NAVEEN PATNAIK       TMC               Y         6   \n",
       "10  40         RAHUL GANDHI  CONGRESS               N         0   \n",
       "11  41     BIPLAB KUMAR DEV       DMK               Y         6   \n",
       "12  42     MANOHAR PARRIKAR       DMK               N         0   \n",
       "13  43   LAL KRISHNA ADVANI     AIDMK               Y         4   \n",
       "14  44        PANKAJA MUNDE       NaN               Y         7   \n",
       "15  45       PRAMOD MAHAJAN     AIDMK               N         0   \n",
       "\n",
       "    FAMILY_MEMBERS_IN_POLITICS     PROPERTY  \n",
       "0                          NaN  358995.6667  \n",
       "1                          2.0  369545.6667  \n",
       "2                          NaN  380095.6667  \n",
       "3                          0.0  390645.6667  \n",
       "4                          0.0  401195.6667  \n",
       "5                          9.0  411745.6667  \n",
       "6                          9.0  422295.6667  \n",
       "7                          3.0  432845.6667  \n",
       "8                          3.0  443395.6667  \n",
       "9                          2.0  453945.6667  \n",
       "10                         4.0  464495.6667  \n",
       "11                         2.0  475045.6667  \n",
       "12                         1.0  485595.6667  \n",
       "13                         1.0  496145.6667  \n",
       "14                         3.0  506695.6667  \n",
       "15                         0.0  517245.6667  "
      ]
     },
     "execution_count": 3,
     "metadata": {},
     "output_type": "execute_result"
    }
   ],
   "source": [
    "df"
   ]
  },
  {
   "cell_type": "code",
   "execution_count": 4,
   "metadata": {},
   "outputs": [
    {
     "name": "stdout",
     "output_type": "stream",
     "text": [
      "    SR            CANDIDATE     PARTY CRIMINAL_RECORD  SEVERITY  \\\n",
      "6   36           TEJ PRATAP       RJD               Y         9   \n",
      "0   30        OMAR ABDULLAH       PDP               y         7   \n",
      "1   31       MEHBOOBA MUFTI       PDP               Y         7   \n",
      "5   35       TEJASVI PRATAP       RJD               Y         7   \n",
      "14  44        PANKAJA MUNDE       NaN               Y         7   \n",
      "9   39       NAVEEN PATNAIK       TMC               Y         6   \n",
      "11  41     BIPLAB KUMAR DEV       DMK               Y         6   \n",
      "8   38      VIRBHADRA SINGH  CONGRESS               Y         4   \n",
      "13  43   LAL KRISHNA ADVANI     AIDMK               Y         4   \n",
      "4   34         NITISH KUMAR       BJP               Y         3   \n",
      "3   33      MAMATA BANERJEE       TMC               Y         1   \n",
      "2   32    ASASSUDIN OWAISSI  MINORITY               N         0   \n",
      "7   37  MANOHAR LAL KHATTAR  CONGRESS               N         0   \n",
      "10  40         RAHUL GANDHI  CONGRESS               N         0   \n",
      "12  42     MANOHAR PARRIKAR       DMK               N         0   \n",
      "15  45       PRAMOD MAHAJAN     AIDMK               N         0   \n",
      "\n",
      "    FAMILY_MEMBERS_IN_POLITICS     PROPERTY  \n",
      "6                          9.0  422295.6667  \n",
      "0                          NaN  358995.6667  \n",
      "1                          2.0  369545.6667  \n",
      "5                          9.0  411745.6667  \n",
      "14                         3.0  506695.6667  \n",
      "9                          2.0  453945.6667  \n",
      "11                         2.0  475045.6667  \n",
      "8                          3.0  443395.6667  \n",
      "13                         1.0  496145.6667  \n",
      "4                          0.0  401195.6667  \n",
      "3                          0.0  390645.6667  \n",
      "2                          NaN  380095.6667  \n",
      "7                          3.0  432845.6667  \n",
      "10                         4.0  464495.6667  \n",
      "12                         1.0  485595.6667  \n",
      "15                         0.0  517245.6667  \n"
     ]
    }
   ],
   "source": [
    "print (df.sort_values('SEVERITY',ascending = False))"
   ]
  },
  {
   "cell_type": "code",
   "execution_count": 5,
   "metadata": {},
   "outputs": [
    {
     "name": "stdout",
     "output_type": "stream",
     "text": [
      "    SR           CANDIDATE     PARTY CRIMINAL_RECORD  SEVERITY  \\\n",
      "1   31      MEHBOOBA MUFTI       PDP               Y         7   \n",
      "3   33     MAMATA BANERJEE       TMC               Y         1   \n",
      "4   34        NITISH KUMAR       BJP               Y         3   \n",
      "5   35      TEJASVI PRATAP       RJD               Y         7   \n",
      "6   36          TEJ PRATAP       RJD               Y         9   \n",
      "8   38     VIRBHADRA SINGH  CONGRESS               Y         4   \n",
      "9   39      NAVEEN PATNAIK       TMC               Y         6   \n",
      "11  41    BIPLAB KUMAR DEV       DMK               Y         6   \n",
      "13  43  LAL KRISHNA ADVANI     AIDMK               Y         4   \n",
      "14  44       PANKAJA MUNDE       NaN               Y         7   \n",
      "\n",
      "    FAMILY_MEMBERS_IN_POLITICS     PROPERTY  \n",
      "1                          2.0  369545.6667  \n",
      "3                          0.0  390645.6667  \n",
      "4                          0.0  401195.6667  \n",
      "5                          9.0  411745.6667  \n",
      "6                          9.0  422295.6667  \n",
      "8                          3.0  443395.6667  \n",
      "9                          2.0  453945.6667  \n",
      "11                         2.0  475045.6667  \n",
      "13                         1.0  496145.6667  \n",
      "14                         3.0  506695.6667  \n"
     ]
    }
   ],
   "source": [
    "print (df.loc[df.CRIMINAL_RECORD == 'Y'])"
   ]
  },
  {
   "cell_type": "code",
   "execution_count": 6,
   "metadata": {},
   "outputs": [
    {
     "name": "stdout",
     "output_type": "stream",
     "text": [
      "    SR       CANDIDATE PARTY CRIMINAL_RECORD  SEVERITY  \\\n",
      "1   31  MEHBOOBA MUFTI   PDP               Y         7   \n",
      "5   35  TEJASVI PRATAP   RJD               Y         7   \n",
      "6   36      TEJ PRATAP   RJD               Y         9   \n",
      "14  44   PANKAJA MUNDE   NaN               Y         7   \n",
      "\n",
      "    FAMILY_MEMBERS_IN_POLITICS     PROPERTY  \n",
      "1                          2.0  369545.6667  \n",
      "5                          9.0  411745.6667  \n",
      "6                          9.0  422295.6667  \n",
      "14                         3.0  506695.6667  \n"
     ]
    }
   ],
   "source": [
    "print (df.loc[(df.CRIMINAL_RECORD == 'Y') & (df['SEVERITY'] > 6)])"
   ]
  },
  {
   "cell_type": "code",
   "execution_count": 7,
   "metadata": {},
   "outputs": [
    {
     "name": "stdout",
     "output_type": "stream",
     "text": [
      "    SR           CANDIDATE     PARTY CRIMINAL_RECORD  SEVERITY  \\\n",
      "0   30       OMAR ABDULLAH       PDP               y         7   \n",
      "1   31      MEHBOOBA MUFTI       PDP               Y         7   \n",
      "3   33     MAMATA BANERJEE       TMC               Y         1   \n",
      "4   34        NITISH KUMAR       BJP               Y         3   \n",
      "5   35      TEJASVI PRATAP       RJD               Y         7   \n",
      "6   36          TEJ PRATAP       RJD               Y         9   \n",
      "8   38     VIRBHADRA SINGH  CONGRESS               Y         4   \n",
      "9   39      NAVEEN PATNAIK       TMC               Y         6   \n",
      "11  41    BIPLAB KUMAR DEV       DMK               Y         6   \n",
      "13  43  LAL KRISHNA ADVANI     AIDMK               Y         4   \n",
      "14  44       PANKAJA MUNDE       NaN               Y         7   \n",
      "\n",
      "    FAMILY_MEMBERS_IN_POLITICS     PROPERTY  \n",
      "0                          NaN  358995.6667  \n",
      "1                          2.0  369545.6667  \n",
      "3                          0.0  390645.6667  \n",
      "4                          0.0  401195.6667  \n",
      "5                          9.0  411745.6667  \n",
      "6                          9.0  422295.6667  \n",
      "8                          3.0  443395.6667  \n",
      "9                          2.0  453945.6667  \n",
      "11                         2.0  475045.6667  \n",
      "13                         1.0  496145.6667  \n",
      "14                         3.0  506695.6667  \n"
     ]
    }
   ],
   "source": [
    "print (df.loc[(df.CRIMINAL_RECORD == 'Y') | (df['SEVERITY'] > 6)])"
   ]
  },
  {
   "cell_type": "code",
   "execution_count": 9,
   "metadata": {},
   "outputs": [
    {
     "data": {
      "text/plain": [
       "0     y\n",
       "1     Y\n",
       "2     N\n",
       "3     Y\n",
       "4     Y\n",
       "5     Y\n",
       "6     Y\n",
       "7     N\n",
       "8     Y\n",
       "9     Y\n",
       "10    N\n",
       "11    Y\n",
       "12    N\n",
       "13    Y\n",
       "14    Y\n",
       "15    N\n",
       "Name: CRIMINAL_RECORD, dtype: object"
      ]
     },
     "execution_count": 9,
     "metadata": {},
     "output_type": "execute_result"
    }
   ],
   "source": [
    "df['CRIMINAL_RECORD']"
   ]
  },
  {
   "cell_type": "code",
   "execution_count": 10,
   "metadata": {},
   "outputs": [],
   "source": [
    "df['Total'] = df ['SEVERITY']  + df['FAMILY_MEMBERS_IN_POLITICS'] + df['PROPERTY']"
   ]
  },
  {
   "cell_type": "code",
   "execution_count": 11,
   "metadata": {},
   "outputs": [
    {
     "name": "stdout",
     "output_type": "stream",
     "text": [
      "    SR            CANDIDATE     PARTY CRIMINAL_RECORD  SEVERITY  \\\n",
      "0   30        OMAR ABDULLAH       PDP               y         7   \n",
      "1   31       MEHBOOBA MUFTI       PDP               Y         7   \n",
      "2   32    ASASSUDIN OWAISSI  MINORITY               N         0   \n",
      "3   33      MAMATA BANERJEE       TMC               Y         1   \n",
      "4   34         NITISH KUMAR       BJP               Y         3   \n",
      "5   35       TEJASVI PRATAP       RJD               Y         7   \n",
      "6   36           TEJ PRATAP       RJD               Y         9   \n",
      "7   37  MANOHAR LAL KHATTAR  CONGRESS               N         0   \n",
      "8   38      VIRBHADRA SINGH  CONGRESS               Y         4   \n",
      "9   39       NAVEEN PATNAIK       TMC               Y         6   \n",
      "10  40         RAHUL GANDHI  CONGRESS               N         0   \n",
      "11  41     BIPLAB KUMAR DEV       DMK               Y         6   \n",
      "12  42     MANOHAR PARRIKAR       DMK               N         0   \n",
      "13  43   LAL KRISHNA ADVANI     AIDMK               Y         4   \n",
      "14  44        PANKAJA MUNDE       NaN               Y         7   \n",
      "15  45       PRAMOD MAHAJAN     AIDMK               N         0   \n",
      "\n",
      "    FAMILY_MEMBERS_IN_POLITICS     PROPERTY        Total  \n",
      "0                          NaN  358995.6667          NaN  \n",
      "1                          2.0  369545.6667  369554.6667  \n",
      "2                          NaN  380095.6667          NaN  \n",
      "3                          0.0  390645.6667  390646.6667  \n",
      "4                          0.0  401195.6667  401198.6667  \n",
      "5                          9.0  411745.6667  411761.6667  \n",
      "6                          9.0  422295.6667  422313.6667  \n",
      "7                          3.0  432845.6667  432848.6667  \n",
      "8                          3.0  443395.6667  443402.6667  \n",
      "9                          2.0  453945.6667  453953.6667  \n",
      "10                         4.0  464495.6667  464499.6667  \n",
      "11                         2.0  475045.6667  475053.6667  \n",
      "12                         1.0  485595.6667  485596.6667  \n",
      "13                         1.0  496145.6667  496150.6667  \n",
      "14                         3.0  506695.6667  506705.6667  \n",
      "15                         0.0  517245.6667  517245.6667  \n"
     ]
    }
   ],
   "source": [
    "print(df)"
   ]
  },
  {
   "cell_type": "code",
   "execution_count": 12,
   "metadata": {},
   "outputs": [],
   "source": [
    "df.to_csv(r\"ModifiedElectionData.csv\")"
   ]
  },
  {
   "cell_type": "code",
   "execution_count": 13,
   "metadata": {},
   "outputs": [
    {
     "name": "stdout",
     "output_type": "stream",
     "text": [
      "    SR            CANDIDATE     PARTY CRIMINAL_RECORD  SEVERITY  \\\n",
      "0   30        OMAR ABDULLAH       PDP               y         7   \n",
      "1   31       MEHBOOBA MUFTI       PDP               Y         7   \n",
      "2   32    ASASSUDIN OWAISSI  MINORITY               N         0   \n",
      "3   33      MAMATA BANERJEE       TMC               Y         1   \n",
      "4   34         NITISH KUMAR       BJP               Y         3   \n",
      "5   35       TEJASVI PRATAP       RJD               Y         7   \n",
      "6   36           TEJ PRATAP       RJD               Y         9   \n",
      "7   37  MANOHAR LAL KHATTAR  CONGRESS               N         0   \n",
      "8   38      VIRBHADRA SINGH  CONGRESS               Y         4   \n",
      "9   39       NAVEEN PATNAIK       TMC               Y         6   \n",
      "10  40         RAHUL GANDHI  CONGRESS               N         0   \n",
      "11  41     BIPLAB KUMAR DEV       DMK               Y         6   \n",
      "12  42     MANOHAR PARRIKAR       DMK               N         0   \n",
      "13  43   LAL KRISHNA ADVANI     AIDMK               Y         4   \n",
      "14  44        PANKAJA MUNDE       NaN               Y         7   \n",
      "15  45       PRAMOD MAHAJAN     AIDMK               N         0   \n",
      "\n",
      "    FAMILY_MEMBERS_IN_POLITICS     PROPERTY        Total  Another_Total  \n",
      "0                          NaN  358995.6667          NaN            7.0  \n",
      "1                          2.0  369545.6667  369554.6667            9.0  \n",
      "2                          NaN  380095.6667          NaN            0.0  \n",
      "3                          0.0  390645.6667  390646.6667            1.0  \n",
      "4                          0.0  401195.6667  401198.6667            3.0  \n",
      "5                          9.0  411745.6667  411761.6667           16.0  \n",
      "6                          9.0  422295.6667  422313.6667           18.0  \n",
      "7                          3.0  432845.6667  432848.6667            3.0  \n",
      "8                          3.0  443395.6667  443402.6667            7.0  \n",
      "9                          2.0  453945.6667  453953.6667            8.0  \n",
      "10                         4.0  464495.6667  464499.6667            4.0  \n",
      "11                         2.0  475045.6667  475053.6667            8.0  \n",
      "12                         1.0  485595.6667  485596.6667            1.0  \n",
      "13                         1.0  496145.6667  496150.6667            5.0  \n",
      "14                         3.0  506695.6667  506705.6667           10.0  \n",
      "15                         0.0  517245.6667  517245.6667            0.0  \n"
     ]
    }
   ],
   "source": [
    "df['Another_Total']=df.iloc[:,4:6].sum(axis = 1)\n",
    "print(df)"
   ]
  },
  {
   "cell_type": "code",
   "execution_count": 14,
   "metadata": {},
   "outputs": [],
   "source": [
    "df.to_excel(r\"ElectionData.xlsx\")"
   ]
  },
  {
   "cell_type": "markdown",
   "metadata": {},
   "source": [
    "Input: Independent variale, birthyear = 1995\n",
    "Output: Dependent variable\n",
    "age = 2017 - birthyear\n",
    "\n",
    "age will change acc to birthyear\n",
    "\n"
   ]
  },
  {
   "cell_type": "code",
   "execution_count": 34,
   "metadata": {},
   "outputs": [
    {
     "name": "stdout",
     "output_type": "stream",
     "text": [
      "       Name  BirthYear  Age\n",
      "0  Karishma       1996   23\n",
      "1     Ankit       1995   24\n",
      "2    Diksha       1994   25\n",
      "3  RamKumar       1887  132\n",
      "4  Shyamali       1947   72\n",
      "5    Chirag       1934   85\n",
      "6    Shweta       1996   23\n",
      "7     Arpit       2005   14\n",
      "8     Mansi       2000   19\n"
     ]
    }
   ],
   "source": [
    "path =r\"D:\\KTyagi\\KT\\Python_Workspace\\DataScience\\NameBirthYearAge.csv\"\n",
    "dframe = pd.read_csv(path)\n",
    "print (dframe)"
   ]
  },
  {
   "cell_type": "markdown",
   "metadata": {},
   "source": [
    "## REGRESSION\n",
    "\n",
    "\n"
   ]
  },
  {
   "cell_type": "code",
   "execution_count": 1,
   "metadata": {
    "collapsed": true
   },
   "outputs": [],
   "source": [
    "import numpy as np"
   ]
  },
  {
   "cell_type": "code",
   "execution_count": 2,
   "metadata": {},
   "outputs": [
    {
     "data": {
      "text/plain": [
       "array([0, 1, 2, 3, 4, 5, 6, 7, 8, 9])"
      ]
     },
     "execution_count": 2,
     "metadata": {},
     "output_type": "execute_result"
    }
   ],
   "source": [
    "l1 = [0,1,2,3,4,5,6,7,8,9]\n",
    "\n",
    "x = np.array(l1)\n",
    "\n",
    "x"
   ]
  },
  {
   "cell_type": "code",
   "execution_count": 3,
   "metadata": {},
   "outputs": [
    {
     "data": {
      "text/plain": [
       "array([ 1,  3,  2,  5,  7,  8,  8,  9, 10, 11])"
      ]
     },
     "execution_count": 3,
     "metadata": {},
     "output_type": "execute_result"
    }
   ],
   "source": [
    "l2 = [1,3,2,5,7,8,8,9,10,11]\n",
    "\n",
    "y = np.array(l2) \n",
    "\n",
    "y"
   ]
  },
  {
   "cell_type": "markdown",
   "metadata": {},
   "source": [
    "## Formulae:\n",
    "\n",
    "cross_deviation = y*x - n* (my * mx) \n",
    "\n",
    "my - > Mean of y\n",
    "mx -> Mean of x\n",
    "\n",
    "square_deviation = x*x - n* (mx * mx) \n",
    "\n",
    "a = y - bx\n",
    "\n",
    "b = cross_dev / square_dev\n"
   ]
  },
  {
   "cell_type": "code",
   "execution_count": null,
   "metadata": {},
   "outputs": [],
   "source": [
    "import matplotlib.pyplot as plt\n",
    "n = np.size(x)\n",
    "mx = np.mean(x)\n",
    "my = np.mean(y)\n",
    "\n",
    "cross_dev = np.sum(x * y)- n * mx * my\n",
    "square_dev = np.sum(x * x)- n * mx * mx\n",
    "b = cross_dev / square_dev\n",
    "a = my - b * mx\n",
    "\n",
    "\n",
    "plt.scatter(x,y, color = 'r', marker = 'o', s = 30)\n",
    "\n",
    "y_pred = a + b * x\n",
    "plt.plot(x,y_pred, color = 'g')\n",
    "plt.xlabel('x')\n",
    "plt.ylabel('y')\n",
    "plt.show()\n",
    "\n",
    "\n",
    "x1 = int(input('Value of x: '))\n",
    "y1 = a + (b * x1)\n",
    "\n",
    "print ('The value of y for x = %d is %d ' %(x1,y1) )"
   ]
  },
  {
   "cell_type": "code",
   "execution_count": null,
   "metadata": {
    "collapsed": true
   },
   "outputs": [],
   "source": []
  }
 ],
 "metadata": {
  "kernelspec": {
   "display_name": "Python 3",
   "language": "python",
   "name": "python3"
  },
  "language_info": {
   "codemirror_mode": {
    "name": "ipython",
    "version": 3
   },
   "file_extension": ".py",
   "mimetype": "text/x-python",
   "name": "python",
   "nbconvert_exporter": "python",
   "pygments_lexer": "ipython3",
   "version": "3.7.3"
  }
 },
 "nbformat": 4,
 "nbformat_minor": 1
}
