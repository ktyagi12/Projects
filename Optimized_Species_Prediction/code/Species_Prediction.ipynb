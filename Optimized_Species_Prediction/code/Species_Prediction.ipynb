{
 "cells": [
  {
   "cell_type": "markdown",
   "metadata": {},
   "source": [
    "### k-NN Algorithm\n",
    "\n",
    "Provided Iris data set and k-NN applied to it. Two parameters are interesting: (i) the split which is the size of the training subset v test subset (split = .67) means roughly 2/3rds training, 1/3rd testing, (ii) k which is the size of nearest neighbours. Note, the Accuracy of model is determined for test sets; it measures how well it classifications work for the unseen set."
   ]
  },
  {
   "cell_type": "code",
   "execution_count": 3,
   "metadata": {},
   "outputs": [
    {
     "name": "stdout",
     "output_type": "stream",
     "text": [
      "Train set: 134\n",
      "Test set: 15\n",
      "> predicted='Iris-setosa', actual='Iris-setosa'\n",
      "> predicted='Iris-setosa', actual='Iris-setosa'\n",
      "> predicted='Iris-setosa', actual='Iris-setosa'\n",
      "> predicted='Iris-setosa', actual='Iris-setosa'\n",
      "> predicted='Iris-setosa', actual='Iris-setosa'\n",
      "> predicted='Iris-setosa', actual='Iris-setosa'\n",
      "> predicted='Iris-setosa', actual='Iris-setosa'\n",
      "> predicted='Iris-versicolor', actual='Iris-versicolor'\n",
      "> predicted='Iris-versicolor', actual='Iris-versicolor'\n",
      "> predicted='Iris-versicolor', actual='Iris-versicolor'\n",
      "> predicted='Iris-virginica', actual='Iris-virginica'\n",
      "> predicted='Iris-versicolor', actual='Iris-virginica'\n",
      "> predicted='Iris-virginica', actual='Iris-virginica'\n",
      "> predicted='Iris-virginica', actual='Iris-virginica'\n",
      "> predicted='Iris-virginica', actual='Iris-virginica'\n",
      "Accuracy: 93.33333333333333%\n"
     ]
    }
   ],
   "source": [
    "# Example of kNN implemented from Scratch in Python\n",
    "# By Jason Brownlee\n",
    "#http://machinelearningmastery.com/tutorial-to-implement-k-nearest-neighbors-in-python-from-scratch/\n",
    "\n",
    "import csv\n",
    "import random\n",
    "import math\n",
    "import operator\n",
    "\n",
    "def loadDataset(filename, split, trainingSet=[] , testSet=[]):\n",
    "    with open(filename, 'r') as csvfile:\n",
    "        lines = csv.reader(csvfile)\n",
    "        dataset = list(lines)\n",
    "        for x in range(len(dataset)-1):\n",
    "            for y in range(4):\n",
    "                dataset[x][y] = float(dataset[x][y])\n",
    "            if random.random() < split:\n",
    "                trainingSet.append(dataset[x])\n",
    "            else:\n",
    "                testSet.append(dataset[x])\n",
    "\n",
    "\n",
    "def euclideanDistance(instance1, instance2, length):\n",
    "    distance = 0\n",
    "    for x in range(length):\n",
    "        distance += pow((instance1[x] - instance2[x]), 2)\n",
    "    return math.sqrt(distance)\n",
    "\n",
    "def getNeighbors(trainingSet, testInstance, k):\n",
    "    distances = []\n",
    "    length = len(testInstance)-1\n",
    "    for x in range(len(trainingSet)):\n",
    "        dist = euclideanDistance(testInstance, trainingSet[x], length)\n",
    "        distances.append((trainingSet[x], dist))\n",
    "        distances.sort(key=operator.itemgetter(1))\n",
    "    neighbors = []\n",
    "    for x in range(k):\n",
    "        neighbors.append(distances[x][0])\n",
    "    return neighbors\n",
    "\n",
    "def getResponse(neighbors):\n",
    "    classVotes = {}\n",
    "    for x in range(len(neighbors)):\n",
    "        response = neighbors[x][-1]\n",
    "        if response in classVotes:\n",
    "            classVotes[response] += 1\n",
    "        else:\n",
    "            classVotes[response] = 1\n",
    "    sortedVotes = sorted(classVotes.items(), key=operator.itemgetter(1), reverse=True)\n",
    "    return sortedVotes[0][0]\n",
    "\n",
    "def getAccuracy(testSet, predictions):\n",
    "    correct = 0\n",
    "    for x in range(len(testSet)):\n",
    "        if testSet[x][-1] == predictions[x]:\n",
    "            correct += 1\n",
    "    return (correct/float(len(testSet))) * 100.0\n",
    "\n",
    "def main():\n",
    "    # prepare data\n",
    "    trainingSet=[]\n",
    "    testSet=[]\n",
    "    split = 0.9\n",
    "    loadDataset(r\"iris.csv\", split, trainingSet, testSet)\n",
    "    print('Train set: ' + repr(len(trainingSet)))\n",
    "    print('Test set: ' + repr(len(testSet)))\n",
    "    # generate predictions\n",
    "    predictions=[]\n",
    "    k = 2\n",
    "    for x in range(len(testSet)):\n",
    "        neighbors = getNeighbors(trainingSet, testSet[x], k)\n",
    "        result = getResponse(neighbors)\n",
    "        predictions.append(result)\n",
    "        print('> predicted=' + repr(result) + ', actual=' + repr(testSet[x][-1]))\n",
    "    accuracy = getAccuracy(testSet, predictions)\n",
    "    print('Accuracy: ' + repr(accuracy) + '%')\n",
    "    \n",
    "main()"
   ]
  },
  {
   "cell_type": "markdown",
   "metadata": {},
   "source": [
    "## Split values:[0.2,0.4,0.6,0.8]\n",
    "## For every split, k is [1,5,10,15,20]"
   ]
  },
  {
   "cell_type": "code",
   "execution_count": 5,
   "metadata": {},
   "outputs": [
    {
     "name": "stdout",
     "output_type": "stream",
     "text": [
      "\n",
      "\n",
      "Train set: 30\n",
      "Test set: 119\n",
      "\n",
      "Accuracy for split= 0.2 and k= 20 is:  [97.47899159663865, 94.9579831932773, 94.9579831932773, 55.46218487394958, 30.252100840336134]%\n",
      "\n",
      "\n",
      "Train set: 62\n",
      "Test set: 87\n",
      "\n",
      "Accuracy for split= 0.4 and k= 20 is:  [94.25287356321839, 96.55172413793103, 94.25287356321839, 93.10344827586206, 94.25287356321839]%\n",
      "\n",
      "\n",
      "Train set: 93\n",
      "Test set: 56\n",
      "\n",
      "Accuracy for split= 0.6 and k= 20 is:  [96.42857142857143, 96.42857142857143, 96.42857142857143, 92.85714285714286, 94.64285714285714]%\n",
      "\n",
      "\n",
      "Train set: 121\n",
      "Test set: 28\n",
      "\n",
      "Accuracy for split= 0.8 and k= 20 is:  [92.85714285714286, 92.85714285714286, 92.85714285714286, 89.28571428571429, 89.28571428571429]%\n"
     ]
    },
    {
     "data": {
      "text/plain": [
       "<Figure size 3600x1800 with 0 Axes>"
      ]
     },
     "metadata": {},
     "output_type": "display_data"
    },
    {
     "data": {
      "image/png": "[encoded data removed]",
      "text/plain": [
       "<Figure size 432x288 with 1 Axes>"
      ]
     },
     "metadata": {
      "needs_background": "light"
     },
     "output_type": "display_data"
    }
   ],
   "source": [
    "# Example of kNN implemented from Scratch in Python\n",
    "# By Jason Brownlee\n",
    "#http://machinelearningmastery.com/tutorial-to-implement-k-nearest-neighbors-in-python-from-scratch/\n",
    "\n",
    "import csv\n",
    "import random\n",
    "import math\n",
    "import operator\n",
    "import matplotlib.pyplot as plt\n",
    "import pandas as pd\n",
    "\n",
    "def loadDataset(filename, split, trainingSet=[] , testSet=[]):\n",
    "    with open(filename, 'r') as csvfile:\n",
    "        lines = csv.reader(csvfile)\n",
    "        dataset = list(lines)\n",
    "        for x in range(len(dataset)-1):\n",
    "            for y in range(4):\n",
    "                dataset[x][y] = float(dataset[x][y])\n",
    "            if random.random() < split:\n",
    "                trainingSet.append(dataset[x])\n",
    "            else:\n",
    "                testSet.append(dataset[x])\n",
    "\n",
    "\n",
    "def euclideanDistance(instance1, instance2, length):\n",
    "    distance = 0\n",
    "    for x in range(length):\n",
    "        distance += pow((instance1[x] - instance2[x]), 2)\n",
    "    return math.sqrt(distance)\n",
    "\n",
    "def getNeighbors(trainingSet, testInstance, k):\n",
    "    distances = []\n",
    "    length = len(testInstance)-1\n",
    "    for x in range(len(trainingSet)):\n",
    "        dist = euclideanDistance(testInstance, trainingSet[x], length)\n",
    "        distances.append((trainingSet[x], dist))\n",
    "        distances.sort(key=operator.itemgetter(1))\n",
    "    neighbors = []\n",
    "    for x in range(k):\n",
    "        neighbors.append(distances[x][0])\n",
    "    return neighbors\n",
    "\n",
    "def getResponse(neighbors):\n",
    "    classVotes = {}\n",
    "    for x in range(len(neighbors)):\n",
    "        response = neighbors[x][-1]\n",
    "        if response in classVotes:\n",
    "            classVotes[response] += 1\n",
    "        else:\n",
    "            classVotes[response] = 1\n",
    "    sortedVotes = sorted(classVotes.items(), key=operator.itemgetter(1), reverse=True)\n",
    "    return sortedVotes[0][0]\n",
    "\n",
    "def getAccuracy(testSet, predictions):\n",
    "    correct = 0\n",
    "    for x in range(len(testSet)):\n",
    "        if testSet[x][-1] == predictions[x]:\n",
    "            correct += 1\n",
    "    return (correct/float(len(testSet))) * 100.0\n",
    "\n",
    "def main():\n",
    "    # prepare data\n",
    "    accuracy_dict = {}\n",
    "    split = [0.2, 0.4, 0.6, 0.8]\n",
    "    for i in split:\n",
    "        trainingSet=[]\n",
    "        testSet=[]\n",
    "        accuracy = []\n",
    "        loadDataset(r\"iris.csv\", i, trainingSet, testSet)\n",
    "        print('\\n\\nTrain set: ' + repr(len(trainingSet)))\n",
    "        print('Test set: ' + repr(len(testSet)))\n",
    "        # generate predictions\n",
    "       \n",
    "        k = [1,5,10,15,20]\n",
    "        for j in k:\n",
    "            predictions=[]\n",
    "            for x in range(len(testSet)):\n",
    "                neighbors = getNeighbors(trainingSet, testSet[x], j)\n",
    "                result = getResponse(neighbors)\n",
    "                predictions.append(result)\n",
    "                #print('> predicted=' + repr(result) + ', actual=' + repr(testSet[x][-1]))\n",
    "            accuracy.append(getAccuracy(testSet, predictions))\n",
    "            accuracy_dict[i] = accuracy\n",
    "        print('\\nAccuracy for split=',i ,'and k=',j,'is: ',repr(accuracy) + '%')\n",
    "   \n",
    "    dframe = pd.DataFrame(accuracy_dict, index = k)\n",
    "    #print(dframe)\n",
    "    \n",
    "    plt.figure(dpi = 200, figsize = (18,9))\n",
    "    dframe.plot(marker = 'o')\n",
    "    plt.title('Accuracy using a split')\n",
    "    plt.xlabel('Values of k')\n",
    "    plt.ylabel('Accuracy values')\n",
    "    plt.xticks([1,5,10,15,20]) \n",
    "    \n",
    "main()"
   ]
  },
  {
   "cell_type": "markdown",
   "metadata": {},
   "source": [
    "## 5 Fold Cross validation\n",
    "Taking ideas about cross-validation into account; systematically vary the size of the split ; exploring a decent number of other values for it >0.0 and <0.9. Also to systematically vary k on five selected values between 1 and 20."
   ]
  },
  {
   "cell_type": "code",
   "execution_count": 6,
   "metadata": {},
   "outputs": [
    {
     "data": {
      "text/html": [
       "<div>\n",
       "<style scoped>\n",
       "    .dataframe tbody tr th:only-of-type {\n",
       "        vertical-align: middle;\n",
       "    }\n",
       "\n",
       "    .dataframe tbody tr th {\n",
       "        vertical-align: top;\n",
       "    }\n",
       "\n",
       "    .dataframe thead th {\n",
       "        text-align: right;\n",
       "    }\n",
       "</style>\n",
       "<table border=\"1\" class=\"dataframe\">\n",
       "  <thead>\n",
       "    <tr style=\"text-align: right;\">\n",
       "      <th></th>\n",
       "      <th>0</th>\n",
       "      <th>1</th>\n",
       "      <th>2</th>\n",
       "      <th>3</th>\n",
       "    </tr>\n",
       "  </thead>\n",
       "  <tbody>\n",
       "    <tr>\n",
       "      <td>0</td>\n",
       "      <td>5.1</td>\n",
       "      <td>3.5</td>\n",
       "      <td>1.4</td>\n",
       "      <td>0.2</td>\n",
       "    </tr>\n",
       "    <tr>\n",
       "      <td>1</td>\n",
       "      <td>4.9</td>\n",
       "      <td>3.0</td>\n",
       "      <td>1.4</td>\n",
       "      <td>0.2</td>\n",
       "    </tr>\n",
       "    <tr>\n",
       "      <td>2</td>\n",
       "      <td>4.7</td>\n",
       "      <td>3.2</td>\n",
       "      <td>1.3</td>\n",
       "      <td>0.2</td>\n",
       "    </tr>\n",
       "    <tr>\n",
       "      <td>3</td>\n",
       "      <td>4.6</td>\n",
       "      <td>3.1</td>\n",
       "      <td>1.5</td>\n",
       "      <td>0.2</td>\n",
       "    </tr>\n",
       "    <tr>\n",
       "      <td>4</td>\n",
       "      <td>5.0</td>\n",
       "      <td>3.6</td>\n",
       "      <td>1.4</td>\n",
       "      <td>0.2</td>\n",
       "    </tr>\n",
       "    <tr>\n",
       "      <td>...</td>\n",
       "      <td>...</td>\n",
       "      <td>...</td>\n",
       "      <td>...</td>\n",
       "      <td>...</td>\n",
       "    </tr>\n",
       "    <tr>\n",
       "      <td>145</td>\n",
       "      <td>6.7</td>\n",
       "      <td>3.0</td>\n",
       "      <td>5.2</td>\n",
       "      <td>2.3</td>\n",
       "    </tr>\n",
       "    <tr>\n",
       "      <td>146</td>\n",
       "      <td>6.3</td>\n",
       "      <td>2.5</td>\n",
       "      <td>5.0</td>\n",
       "      <td>1.9</td>\n",
       "    </tr>\n",
       "    <tr>\n",
       "      <td>147</td>\n",
       "      <td>6.5</td>\n",
       "      <td>3.0</td>\n",
       "      <td>5.2</td>\n",
       "      <td>2.0</td>\n",
       "    </tr>\n",
       "    <tr>\n",
       "      <td>148</td>\n",
       "      <td>6.2</td>\n",
       "      <td>3.4</td>\n",
       "      <td>5.4</td>\n",
       "      <td>2.3</td>\n",
       "    </tr>\n",
       "    <tr>\n",
       "      <td>149</td>\n",
       "      <td>5.9</td>\n",
       "      <td>3.0</td>\n",
       "      <td>5.1</td>\n",
       "      <td>1.8</td>\n",
       "    </tr>\n",
       "  </tbody>\n",
       "</table>\n",
       "<p>150 rows × 4 columns</p>\n",
       "</div>"
      ],
      "text/plain": [
       "       0    1    2    3\n",
       "0    5.1  3.5  1.4  0.2\n",
       "1    4.9  3.0  1.4  0.2\n",
       "2    4.7  3.2  1.3  0.2\n",
       "3    4.6  3.1  1.5  0.2\n",
       "4    5.0  3.6  1.4  0.2\n",
       "..   ...  ...  ...  ...\n",
       "145  6.7  3.0  5.2  2.3\n",
       "146  6.3  2.5  5.0  1.9\n",
       "147  6.5  3.0  5.2  2.0\n",
       "148  6.2  3.4  5.4  2.3\n",
       "149  5.9  3.0  5.1  1.8\n",
       "\n",
       "[150 rows x 4 columns]"
      ]
     },
     "execution_count": 6,
     "metadata": {},
     "output_type": "execute_result"
    }
   ],
   "source": [
    "dframe = pd.read_csv(r\"iris_crossVal.csv\", header= None)\n",
    "y = dframe.iloc[:,-1]\n",
    "X = dframe.iloc[:,:-1]\n",
    "X"
   ]
  },
  {
   "cell_type": "code",
   "execution_count": 7,
   "metadata": {},
   "outputs": [],
   "source": [
    "from sklearn.neighbors import KNeighborsClassifier\n",
    "from sklearn.model_selection import train_test_split\n",
    "import matplotlib.pyplot as plt\n",
    "from sklearn.model_selection import cross_val_score\n",
    "from sklearn import metrics\n",
    "from sklearn.metrics import confusion_matrix\n",
    "\n",
    "dframe_dict = {}\n",
    "mean_list = []"
   ]
  },
  {
   "cell_type": "code",
   "execution_count": 8,
   "metadata": {},
   "outputs": [
    {
     "name": "stdout",
     "output_type": "stream",
     "text": [
      "\n",
      "5x CV Accuracy kNNs: 0.96\n"
     ]
    }
   ],
   "source": [
    "kNN_k = 1\n",
    "kNN = KNeighborsClassifier(n_neighbors=kNN_k)  \n",
    "kNN_scores = cross_val_score(kNN, X, y, cv=5)\n",
    "print(\"\\n5x CV Accuracy kNNs: {0:.2f}\".format(kNN_scores.mean())) \n",
    "#print(kNN_scores)\n",
    "mean_list.append(kNN_scores.mean())\n",
    "#print('Mean List: ', mean_list)\n",
    "dframe_dict[kNN_k] = mean_list[0]\n",
    "#print(dframe_dict)"
   ]
  },
  {
   "cell_type": "code",
   "execution_count": 9,
   "metadata": {},
   "outputs": [
    {
     "name": "stdout",
     "output_type": "stream",
     "text": [
      "\n",
      "5x CV Accuracy kNNs: 0.97\n"
     ]
    }
   ],
   "source": [
    "kNN_k = 5\n",
    "kNN = KNeighborsClassifier(n_neighbors=kNN_k)  \n",
    "kNN_scores = cross_val_score(kNN, X, y, cv=5)\n",
    "print(\"\\n5x CV Accuracy kNNs: {0:.2f}\".format(kNN_scores.mean()))  \n",
    "#print(kNN_scores)\n",
    "mean_list.append(kNN_scores.mean())\n",
    "#print('Mean List: ', mean_list)\n",
    "dframe_dict[kNN_k] = kNN_scores.mean()\n",
    "#print(dframe_dict)"
   ]
  },
  {
   "cell_type": "code",
   "execution_count": 10,
   "metadata": {},
   "outputs": [
    {
     "name": "stdout",
     "output_type": "stream",
     "text": [
      "\n",
      "5x CV Accuracy kNNs: 0.98\n"
     ]
    }
   ],
   "source": [
    "kNN_k = 10\n",
    "kNN = KNeighborsClassifier(n_neighbors=kNN_k)  \n",
    "kNN_scores = cross_val_score(kNN, X, y, cv=5)\n",
    "print(\"\\n5x CV Accuracy kNNs: {0:.2f}\".format(kNN_scores.mean()))  \n",
    "#print(kNN_scores)\n",
    "mean_list.append(kNN_scores.mean())\n",
    "#print('Mean List: ', mean_list)\n",
    "dframe_dict[kNN_k] = kNN_scores.mean()\n",
    "#print(dframe_dict)"
   ]
  },
  {
   "cell_type": "code",
   "execution_count": 11,
   "metadata": {},
   "outputs": [
    {
     "name": "stdout",
     "output_type": "stream",
     "text": [
      "\n",
      "5x CV Accuracy kNNs: 0.97\n"
     ]
    }
   ],
   "source": [
    "kNN_k = 15\n",
    "kNN = KNeighborsClassifier(n_neighbors=kNN_k)  \n",
    "kNN_scores = cross_val_score(kNN, X, y, cv=5)\n",
    "print(\"\\n5x CV Accuracy kNNs: {0:.2f}\".format(kNN_scores.mean())) \n",
    "#print(kNN_scores)\n",
    "mean_list.append(kNN_scores.mean())\n",
    "#print('Mean List: ', mean_list)\n",
    "dframe_dict[kNN_k] = kNN_scores.mean()\n",
    "#print(dframe_dict)"
   ]
  },
  {
   "cell_type": "code",
   "execution_count": 12,
   "metadata": {},
   "outputs": [
    {
     "name": "stdout",
     "output_type": "stream",
     "text": [
      "\n",
      "5x CV Accuracy kNNs: 0.96\n"
     ]
    }
   ],
   "source": [
    "kNN_k = 20\n",
    "kNN = KNeighborsClassifier(n_neighbors=kNN_k)  \n",
    "kNN_scores = cross_val_score(kNN, X, y, cv=5)\n",
    "print(\"\\n5x CV Accuracy kNNs: {0:.2f}\".format(kNN_scores.mean())) \n",
    "#print(kNN_scores)\n",
    "mean_list.append(kNN_scores.mean())\n",
    "#print('Mean List: ', mean_list)\n",
    "dframe_dict[kNN_k] = kNN_scores.mean()\n",
    "#print(dframe_dict)"
   ]
  },
  {
   "cell_type": "markdown",
   "metadata": {},
   "source": [
    "### Then plot the accuracy in a graph for these parameter changes Now, using this data set, describe an algorithm for doing a 5-fold cross validation on this data set. See can you implement it in Python."
   ]
  },
  {
   "cell_type": "code",
   "execution_count": 13,
   "metadata": {},
   "outputs": [
    {
     "name": "stdout",
     "output_type": "stream",
     "text": [
      "    Accuracy\n",
      "1   0.960000\n",
      "5   0.973333\n",
      "10  0.980000\n",
      "15  0.966667\n",
      "20  0.960000\n"
     ]
    },
    {
     "data": {
      "text/plain": [
       "([<matplotlib.axis.XTick at 0x231d5b6bdd8>,\n",
       "  <matplotlib.axis.XTick at 0x231d5b6b550>,\n",
       "  <matplotlib.axis.XTick at 0x231d5b829b0>,\n",
       "  <matplotlib.axis.XTick at 0x231d5bac780>,\n",
       "  <matplotlib.axis.XTick at 0x231d5bace80>],\n",
       " <a list of 5 Text xticklabel objects>)"
      ]
     },
     "execution_count": 13,
     "metadata": {},
     "output_type": "execute_result"
    },
    {
     "data": {
      "image/png": "[encoded data removed]",
      "text/plain": [
       "<Figure size 864x432 with 1 Axes>"
      ]
     },
     "metadata": {
      "needs_background": "light"
     },
     "output_type": "display_data"
    }
   ],
   "source": [
    "df = pd.DataFrame(mean_list, index = [1,5,10,15,20],columns = ['Accuracy'])\n",
    "print(df)\n",
    "df.plot(figsize = (12,6), marker = 'o', color = 'green')\n",
    "plt.title('Accuracy using cross validation')\n",
    "plt.xlabel('Number of neighbors in kNN')\n",
    "plt.ylabel('Accuracy values')\n",
    "plt.xticks([1,5,10,15,20])"
   ]
  },
  {
   "cell_type": "code",
   "execution_count": null,
   "metadata": {},
   "outputs": [],
   "source": []
  }
 ],
 "metadata": {
  "kernelspec": {
   "display_name": "Python 3",
   "language": "python",
   "name": "python3"
  },
  "language_info": {
   "codemirror_mode": {
    "name": "ipython",
    "version": 3
   },
   "file_extension": ".py",
   "mimetype": "text/x-python",
   "name": "python",
   "nbconvert_exporter": "python",
   "pygments_lexer": "ipython3",
   "version": "3.7.3"
  }
 },
 "nbformat": 4,
 "nbformat_minor": 2
}
