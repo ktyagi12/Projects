{
 "cells": [
  {
   "cell_type": "markdown",
   "metadata": {},
   "source": [
    "### FAKE NEWS CLASSIFICATION USING NLP\n",
    "\n",
    "#### Input: https://www.kaggle.com/c/fake-news/data#\n",
    "\n",
    "1 -> Fake\n",
    "\n",
    "0 -> Real"
   ]
  },
  {
   "cell_type": "code",
   "execution_count": 1,
   "metadata": {},
   "outputs": [],
   "source": [
    "# import statements\n",
    "\n",
    "import pandas as pd\n",
    "import numpy as np\n",
    "import itertools\n",
    "import re\n",
    "import string\n",
    "import matplotlib.pyplot as plt\n",
    "import nltk\n",
    "from nltk.corpus import stopwords\n",
    "from nltk.stem.wordnet import WordNetLemmatizer\n",
    "from sklearn.feature_extraction.text import CountVectorizer\n",
    "from sklearn.feature_extraction.text import TfidfVectorizer\n",
    "from sklearn.model_selection import train_test_split\n",
    "from sklearn.naive_bayes import MultinomialNB\n",
    "from sklearn.linear_model import PassiveAggressiveClassifier\n",
    "\n",
    "from sklearn.metrics import accuracy_score, confusion_matrix,classification_report\n",
    "\n",
    "import warnings\n",
    "warnings.filterwarnings('ignore')"
   ]
  },
  {
   "cell_type": "markdown",
   "metadata": {},
   "source": [
    "### I. Data Loading"
   ]
  },
  {
   "cell_type": "code",
   "execution_count": 2,
   "metadata": {},
   "outputs": [
    {
     "data": {
      "text/html": [
       "<div>\n",
       "<style scoped>\n",
       "    .dataframe tbody tr th:only-of-type {\n",
       "        vertical-align: middle;\n",
       "    }\n",
       "\n",
       "    .dataframe tbody tr th {\n",
       "        vertical-align: top;\n",
       "    }\n",
       "\n",
       "    .dataframe thead th {\n",
       "        text-align: right;\n",
       "    }\n",
       "</style>\n",
       "<table border=\"1\" class=\"dataframe\">\n",
       "  <thead>\n",
       "    <tr style=\"text-align: right;\">\n",
       "      <th></th>\n",
       "      <th>id</th>\n",
       "      <th>title</th>\n",
       "      <th>author</th>\n",
       "      <th>text</th>\n",
       "      <th>label</th>\n",
       "    </tr>\n",
       "  </thead>\n",
       "  <tbody>\n",
       "    <tr>\n",
       "      <th>0</th>\n",
       "      <td>0</td>\n",
       "      <td>House Dem Aide: We Didn’t Even See Comey’s Let...</td>\n",
       "      <td>Darrell Lucus</td>\n",
       "      <td>House Dem Aide: We Didn’t Even See Comey’s Let...</td>\n",
       "      <td>1</td>\n",
       "    </tr>\n",
       "    <tr>\n",
       "      <th>1</th>\n",
       "      <td>1</td>\n",
       "      <td>FLYNN: Hillary Clinton, Big Woman on Campus - ...</td>\n",
       "      <td>Daniel J. Flynn</td>\n",
       "      <td>Ever get the feeling your life circles the rou...</td>\n",
       "      <td>0</td>\n",
       "    </tr>\n",
       "    <tr>\n",
       "      <th>2</th>\n",
       "      <td>2</td>\n",
       "      <td>Why the Truth Might Get You Fired</td>\n",
       "      <td>Consortiumnews.com</td>\n",
       "      <td>Why the Truth Might Get You Fired October 29, ...</td>\n",
       "      <td>1</td>\n",
       "    </tr>\n",
       "    <tr>\n",
       "      <th>3</th>\n",
       "      <td>3</td>\n",
       "      <td>15 Civilians Killed In Single US Airstrike Hav...</td>\n",
       "      <td>Jessica Purkiss</td>\n",
       "      <td>Videos 15 Civilians Killed In Single US Airstr...</td>\n",
       "      <td>1</td>\n",
       "    </tr>\n",
       "    <tr>\n",
       "      <th>4</th>\n",
       "      <td>4</td>\n",
       "      <td>Iranian woman jailed for fictional unpublished...</td>\n",
       "      <td>Howard Portnoy</td>\n",
       "      <td>Print \\nAn Iranian woman has been sentenced to...</td>\n",
       "      <td>1</td>\n",
       "    </tr>\n",
       "  </tbody>\n",
       "</table>\n",
       "</div>"
      ],
      "text/plain": [
       "   id                                              title              author  \\\n",
       "0   0  House Dem Aide: We Didn’t Even See Comey’s Let...       Darrell Lucus   \n",
       "1   1  FLYNN: Hillary Clinton, Big Woman on Campus - ...     Daniel J. Flynn   \n",
       "2   2                  Why the Truth Might Get You Fired  Consortiumnews.com   \n",
       "3   3  15 Civilians Killed In Single US Airstrike Hav...     Jessica Purkiss   \n",
       "4   4  Iranian woman jailed for fictional unpublished...      Howard Portnoy   \n",
       "\n",
       "                                                text  label  \n",
       "0  House Dem Aide: We Didn’t Even See Comey’s Let...      1  \n",
       "1  Ever get the feeling your life circles the rou...      0  \n",
       "2  Why the Truth Might Get You Fired October 29, ...      1  \n",
       "3  Videos 15 Civilians Killed In Single US Airstr...      1  \n",
       "4  Print \\nAn Iranian woman has been sentenced to...      1  "
      ]
     },
     "execution_count": 2,
     "metadata": {},
     "output_type": "execute_result"
    }
   ],
   "source": [
    "# loading the train data in dataframe\n",
    "path = r'fake-news/train.csv'\n",
    "news_data = pd.read_csv(path)\n",
    "news_data.head(5)"
   ]
  },
  {
   "cell_type": "markdown",
   "metadata": {},
   "source": [
    "### II. Initial Analysis"
   ]
  },
  {
   "cell_type": "code",
   "execution_count": 3,
   "metadata": {
    "scrolled": true
   },
   "outputs": [
    {
     "data": {
      "text/plain": [
       "(20800, 5)"
      ]
     },
     "execution_count": 3,
     "metadata": {},
     "output_type": "execute_result"
    }
   ],
   "source": [
    "# checking the structure of the data\n",
    "news_data.shape"
   ]
  },
  {
   "cell_type": "code",
   "execution_count": 4,
   "metadata": {},
   "outputs": [
    {
     "data": {
      "text/plain": [
       "id           0\n",
       "title      558\n",
       "author    1957\n",
       "text        39\n",
       "label        0\n",
       "dtype: int64"
      ]
     },
     "execution_count": 4,
     "metadata": {},
     "output_type": "execute_result"
    }
   ],
   "source": [
    "# checking for null values\n",
    "news_data.isnull().sum()"
   ]
  },
  {
   "cell_type": "code",
   "execution_count": 5,
   "metadata": {},
   "outputs": [
    {
     "data": {
      "text/plain": [
       "1    10413\n",
       "0    10387\n",
       "Name: label, dtype: int64"
      ]
     },
     "execution_count": 5,
     "metadata": {},
     "output_type": "execute_result"
    }
   ],
   "source": [
    "# checking for balanced data\n",
    "news_data.label.value_counts()"
   ]
  },
  {
   "cell_type": "markdown",
   "metadata": {},
   "source": [
    "### III. Data Cleaning"
   ]
  },
  {
   "cell_type": "code",
   "execution_count": 6,
   "metadata": {},
   "outputs": [
    {
     "name": "stdout",
     "output_type": "stream",
     "text": [
      "RangeIndex(start=0, stop=18285, step=1)\n"
     ]
    }
   ],
   "source": [
    "# dropping all NaN records\n",
    "news_data = news_data.dropna()\n",
    "\n",
    "# resetting the index after dropping any records\n",
    "news_data.reset_index(inplace=True)\n",
    "\n",
    "print(news_data.index)"
   ]
  },
  {
   "cell_type": "code",
   "execution_count": 7,
   "metadata": {},
   "outputs": [],
   "source": [
    "lemmatizer = WordNetLemmatizer()\n",
    "corpus = []\n",
    "\n",
    "# iterating over all records\n",
    "for row in range(len(news_data)):\n",
    "    # replacing all non-alpha characters by space\n",
    "    news_data['title'][row] = re.sub('[^a-zA-Z]', ' ',news_data['title'][row])\n",
    "    \n",
    "    # normalizing the text\n",
    "    news_data['title'][row] = news_data['title'][row].lower()\n",
    "         \n",
    "    # tokenisation\n",
    "    words = news_data['title'][row].split()\n",
    "    \n",
    "    # lemmatization once stopwords are removed\n",
    "    words = [lemmatizer.lemmatize(word) for word in words if not word in stopwords.words('english')]\n",
    "    \n",
    "    # join back to form sentence\n",
    "    news_data['title'][row] = ' '.join(words)  \n",
    "\n",
    "    # appending the text to corpus for Bag of Words\n",
    "    corpus.append(news_data['title'][row])"
   ]
  },
  {
   "cell_type": "markdown",
   "metadata": {},
   "source": [
    "### IV. Bag of Words"
   ]
  },
  {
   "cell_type": "code",
   "execution_count": 8,
   "metadata": {},
   "outputs": [
    {
     "data": {
      "text/plain": [
       "\"\\ntf_idf = TfidfVectorizer(max_features=5000,ngram_range=(1,3))\\nX= tf_idf.fit_transform(corpus).toarray())\\ny = news_data['label']\\n\""
      ]
     },
     "execution_count": 8,
     "metadata": {},
     "output_type": "execute_result"
    }
   ],
   "source": [
    "cv = CountVectorizer(max_features=5000, ngram_range=(1,3))\n",
    "X = cv.fit_transform(corpus).toarray()\n",
    "y = news_data['label']\n",
    "\n",
    "\n",
    "'''\n",
    "tf_idf = TfidfVectorizer(max_features=5000,ngram_range=(1,3))\n",
    "X= tf_idf.fit_transform(corpus).toarray())\n",
    "y = news_data['label']\n",
    "'''"
   ]
  },
  {
   "cell_type": "code",
   "execution_count": 9,
   "metadata": {},
   "outputs": [
    {
     "data": {
      "text/plain": [
       "(18285, 5000)"
      ]
     },
     "execution_count": 9,
     "metadata": {},
     "output_type": "execute_result"
    }
   ],
   "source": [
    "X.shape"
   ]
  },
  {
   "cell_type": "code",
   "execution_count": 10,
   "metadata": {},
   "outputs": [
    {
     "data": {
      "text/plain": [
       "['abandon',\n",
       " 'abandoned',\n",
       " 'abc',\n",
       " 'abc news',\n",
       " 'abe',\n",
       " 'abedin',\n",
       " 'able',\n",
       " 'abortion',\n",
       " 'abroad',\n",
       " 'absolutely']"
      ]
     },
     "execution_count": 10,
     "metadata": {},
     "output_type": "execute_result"
    }
   ],
   "source": [
    "cv.get_feature_names()[:10]"
   ]
  },
  {
   "cell_type": "code",
   "execution_count": 11,
   "metadata": {},
   "outputs": [
    {
     "data": {
      "text/plain": [
       "{'analyzer': 'word',\n",
       " 'binary': False,\n",
       " 'decode_error': 'strict',\n",
       " 'dtype': numpy.int64,\n",
       " 'encoding': 'utf-8',\n",
       " 'input': 'content',\n",
       " 'lowercase': True,\n",
       " 'max_df': 1.0,\n",
       " 'max_features': 5000,\n",
       " 'min_df': 1,\n",
       " 'ngram_range': (1, 3),\n",
       " 'preprocessor': None,\n",
       " 'stop_words': None,\n",
       " 'strip_accents': None,\n",
       " 'token_pattern': '(?u)\\\\b\\\\w\\\\w+\\\\b',\n",
       " 'tokenizer': None,\n",
       " 'vocabulary': None}"
      ]
     },
     "execution_count": 11,
     "metadata": {},
     "output_type": "execute_result"
    }
   ],
   "source": [
    "cv.get_params()"
   ]
  },
  {
   "cell_type": "markdown",
   "metadata": {},
   "source": [
    "### V. Train Test Split"
   ]
  },
  {
   "cell_type": "code",
   "execution_count": 12,
   "metadata": {},
   "outputs": [],
   "source": [
    "X_train, X_test, y_train, y_test = train_test_split(X,y, test_size = 0.2, random_state = 1)"
   ]
  },
  {
   "cell_type": "markdown",
   "metadata": {},
   "source": [
    "### Confusion Matrix Plot"
   ]
  },
  {
   "cell_type": "code",
   "execution_count": 13,
   "metadata": {},
   "outputs": [],
   "source": [
    "def plot_confusion_matrix(cm, classes,normalize=False,title='Confusion matrix',cmap=plt.cm.Blues):\n",
    "\n",
    "    plt.imshow(cm, interpolation='nearest', cmap=cmap)\n",
    "    plt.title(title)\n",
    "    plt.colorbar()\n",
    "    tick_marks = np.arange(len(classes))\n",
    "    plt.xticks(tick_marks, classes, rotation=45)\n",
    "    plt.yticks(tick_marks, classes)\n",
    "\n",
    "    if normalize:\n",
    "        cm = cm.astype('float') / cm.sum(axis=1)[:, np.newaxis]\n",
    "        print(\"Normalized confusion matrix\")\n",
    "    else:\n",
    "        print('Confusion matrix, without normalization')\n",
    "\n",
    "    thresh = cm.max() / 2.\n",
    "    for i, j in itertools.product(range(cm.shape[0]), range(cm.shape[1])):\n",
    "        plt.text(j, i, cm[i, j],horizontalalignment=\"center\",color=\"white\" if cm[i, j] > thresh else \"black\")\n",
    "\n",
    "    plt.tight_layout()\n",
    "    plt.ylabel('True label')\n",
    "    plt.xlabel('Predicted label')\n",
    "    "
   ]
  },
  {
   "cell_type": "markdown",
   "metadata": {},
   "source": [
    "### MultiNomial Naive Bayes Algorithm"
   ]
  },
  {
   "cell_type": "code",
   "execution_count": 14,
   "metadata": {},
   "outputs": [
    {
     "name": "stdout",
     "output_type": "stream",
     "text": [
      "Accuracy: 0.900\n",
      "Confusion matrix, without normalization\n",
      "              precision    recall  f1-score   support\n",
      "\n",
      "           0       0.93      0.89      0.91      2076\n",
      "           1       0.87      0.91      0.89      1581\n",
      "\n",
      "    accuracy                           0.90      3657\n",
      "   macro avg       0.90      0.90      0.90      3657\n",
      "weighted avg       0.90      0.90      0.90      3657\n",
      "\n"
     ]
    },
    {
     "data": {
      "image/png": "[encoded data removed]",
      "text/plain": [
       "<Figure size 432x288 with 2 Axes>"
      ]
     },
     "metadata": {
      "needs_background": "light"
     },
     "output_type": "display_data"
    }
   ],
   "source": [
    "classifier = MultinomialNB()\n",
    "classifier.fit(X_train, y_train)\n",
    "y_pred = classifier.predict(X_test)\n",
    "acc_score = accuracy_score(y_test, y_pred)\n",
    "print('Accuracy: %0.3f' % acc_score)\n",
    "cm = confusion_matrix(y_test, y_pred)\n",
    "plot_confusion_matrix(cm,classes=['Fake', 'Real'] )\n",
    "print(classification_report(y_test, y_pred))"
   ]
  },
  {
   "cell_type": "markdown",
   "metadata": {},
   "source": [
    "### Passive Agressive Classifier\n",
    "\n",
    "Passive Aggressive algorithms are online learning algorithms, remains passive for a correct classification outcome, and turns aggressive in case of a misclassification, hence updating and adjusting. \n",
    "\n",
    "Unlike other algorithms, it does not converge. Its purpose is to make updates that correct the loss, causing very little change in the norm of the weight vector."
   ]
  },
  {
   "cell_type": "code",
   "execution_count": 15,
   "metadata": {},
   "outputs": [
    {
     "name": "stdout",
     "output_type": "stream",
     "text": [
      "Accuracy: 0.911\n",
      "Confusion matrix, without normalization\n",
      "              precision    recall  f1-score   support\n",
      "\n",
      "           0       0.92      0.92      0.92      2076\n",
      "           1       0.89      0.90      0.90      1581\n",
      "\n",
      "    accuracy                           0.91      3657\n",
      "   macro avg       0.91      0.91      0.91      3657\n",
      "weighted avg       0.91      0.91      0.91      3657\n",
      "\n"
     ]
    },
    {
     "data": {
      "image/png": "[encoded data removed]",
      "text/plain": [
       "<Figure size 432x288 with 2 Axes>"
      ]
     },
     "metadata": {
      "needs_background": "light"
     },
     "output_type": "display_data"
    }
   ],
   "source": [
    "classifier_passive = PassiveAggressiveClassifier(n_iter_no_change=100)\n",
    "classifier_passive.fit(X_train, y_train)\n",
    "y_pred_ = classifier_passive.predict(X_test)\n",
    "\n",
    "acc_score = accuracy_score(y_test, y_pred_)\n",
    "print('Accuracy: %0.3f' % acc_score)\n",
    "\n",
    "cm = confusion_matrix(y_test, y_pred_)\n",
    "plot_confusion_matrix(cm,classes=['Fake', 'Real'] )\n",
    "print(classification_report(y_test, y_pred_))"
   ]
  },
  {
   "cell_type": "markdown",
   "metadata": {},
   "source": [
    "### HyperParameter Tuning"
   ]
  },
  {
   "cell_type": "code",
   "execution_count": 16,
   "metadata": {},
   "outputs": [
    {
     "name": "stdout",
     "output_type": "stream",
     "text": [
      "Alpha: 0.0, Accuracy : 0.8941755537325676\n",
      "Alpha: 0.1, Accuracy : 0.9007383100902379\n",
      "Alpha: 0.2, Accuracy : 0.8999179655455292\n",
      "Alpha: 0.30000000000000004, Accuracy : 0.8996445173639596\n",
      "Alpha: 0.4, Accuracy : 0.9001914137270988\n",
      "Alpha: 0.5, Accuracy : 0.9004648619086683\n",
      "Alpha: 0.6000000000000001, Accuracy : 0.9001914137270988\n",
      "Alpha: 0.7000000000000001, Accuracy : 0.9001914137270988\n",
      "Alpha: 0.8, Accuracy : 0.8990976210008204\n",
      "Alpha: 0.9, Accuracy : 0.89937106918239\n"
     ]
    }
   ],
   "source": [
    "classifier = MultinomialNB(alpha=0.1)\n",
    "prev_score=0\n",
    "\n",
    "for alpha in np.arange(0,1,0.1):\n",
    "    \n",
    "    # define a sub classifier with unique alpha value ranging from 0 to 1 with step 0.1\n",
    "    sub_classifier=MultinomialNB(alpha=alpha)\n",
    "    \n",
    "    # training the sub classifier\n",
    "    sub_classifier.fit(X_train,y_train)\n",
    "    \n",
    "    # predictions through sub classifier\n",
    "    y_pred=sub_classifier.predict(X_test)\n",
    "    \n",
    "    # accuracy score of sub classifier\n",
    "    acc_score = accuracy_score(y_test, y_pred)\n",
    "    \n",
    "    if acc_score > prev_score:\n",
    "        classifier = sub_classifier\n",
    "    print(\"Alpha: {}, Accuracy : {}\".format(alpha,acc_score))"
   ]
  },
  {
   "cell_type": "code",
   "execution_count": 17,
   "metadata": {},
   "outputs": [
    {
     "data": {
      "text/plain": [
       "array([ -9.72161417, -10.14447102,  -8.60027363, ..., -10.89168542,\n",
       "        -8.60027363,  -9.72161417])"
      ]
     },
     "execution_count": 17,
     "metadata": {},
     "output_type": "execute_result"
    }
   ],
   "source": [
    "# the more negative the co efficient is, more fake the word is.\n",
    "\n",
    "classifier.coef_[0]"
   ]
  },
  {
   "cell_type": "code",
   "execution_count": 18,
   "metadata": {},
   "outputs": [
    {
     "data": {
      "text/plain": [
       "[(-3.89581752257848, 'trump'),\n",
       " (-4.229688607536978, 'hillary'),\n",
       " (-4.298793108252637, 'clinton'),\n",
       " (-4.873092209312656, 'election'),\n",
       " (-5.103085334726193, 'new'),\n",
       " (-5.20320460990209, 'comment'),\n",
       " (-5.22602796650362, 'video'),\n",
       " (-5.344340191790614, 'hillary clinton'),\n",
       " (-5.353039681192543, 'war'),\n",
       " (-5.375125384546355, 'fbi'),\n",
       " (-5.439693681324477, 'email'),\n",
       " (-5.524152988239381, 'obama'),\n",
       " (-5.566509769757985, 'world'),\n",
       " (-5.6570180843373095, 'donald'),\n",
       " (-5.680985678585511, 'russia'),\n",
       " (-5.699346047467475, 'donald trump'),\n",
       " (-5.763102498549337, 'america'),\n",
       " (-5.810281058824428, 'american'),\n",
       " (-5.817206294257742, 'day'),\n",
       " (-5.859796123351808, 'campaign'),\n",
       " (-5.8670741758566605, 'say'),\n",
       " (-5.874405586993966, 'state'),\n",
       " (-5.91189123523521, 'wikileaks'),\n",
       " (-5.9588114910195324, 'vote'),\n",
       " (-5.983123871663838, 'year'),\n",
       " (-5.9913611505303175, 'breaking'),\n",
       " (-6.086754046741488, 'president'),\n",
       " (-6.114431090120065, 'win'),\n",
       " (-6.133317392748813, 'de'),\n",
       " (-6.152567265311061, 'news')]"
      ]
     },
     "execution_count": 18,
     "metadata": {},
     "output_type": "execute_result"
    }
   ],
   "source": [
    "# most real words\n",
    "\n",
    "sorted(zip(classifier.coef_[0], cv.get_feature_names()), reverse=True)[:30]"
   ]
  },
  {
   "cell_type": "code",
   "execution_count": 19,
   "metadata": {
    "scrolled": false
   },
   "outputs": [
    {
     "data": {
      "text/plain": [
       "[(-10.891685423808891, 'abroad'),\n",
       " (-10.891685423808891, 'abuse new'),\n",
       " (-10.891685423808891, 'abuse new york'),\n",
       " (-10.891685423808891, 'accord'),\n",
       " (-10.891685423808891, 'act new'),\n",
       " (-10.891685423808891, 'act new york'),\n",
       " (-10.891685423808891, 'advice'),\n",
       " (-10.891685423808891, 'age new'),\n",
       " (-10.891685423808891, 'age new york'),\n",
       " (-10.891685423808891, 'agenda breitbart'),\n",
       " (-10.891685423808891, 'aleppo new'),\n",
       " (-10.891685423808891, 'aleppo new york'),\n",
       " (-10.891685423808891, 'ali'),\n",
       " (-10.891685423808891, 'america breitbart'),\n",
       " (-10.891685423808891, 'america new york'),\n",
       " (-10.891685423808891, 'american new'),\n",
       " (-10.891685423808891, 'american new york'),\n",
       " (-10.891685423808891, 'amp'),\n",
       " (-10.891685423808891, 'amy'),\n",
       " (-10.891685423808891, 'amy schumer'),\n",
       " (-10.891685423808891, 'angeles'),\n",
       " (-10.891685423808891, 'anti semitism'),\n",
       " (-10.891685423808891, 'apologizes'),\n",
       " (-10.891685423808891, 'appearance'),\n",
       " (-10.891685423808891, 'approval'),\n",
       " (-10.891685423808891, 'architecture'),\n",
       " (-10.891685423808891, 'arson'),\n",
       " (-10.891685423808891, 'asian'),\n",
       " (-10.891685423808891, 'assails'),\n",
       " (-10.891685423808891, 'attack breitbart')]"
      ]
     },
     "execution_count": 19,
     "metadata": {},
     "output_type": "execute_result"
    }
   ],
   "source": [
    "# most fake words\n",
    "\n",
    "sorted(zip(classifier.coef_[0], cv.get_feature_names()))[:30]"
   ]
  },
  {
   "cell_type": "code",
   "execution_count": null,
   "metadata": {},
   "outputs": [],
   "source": []
  }
 ],
 "metadata": {
  "kernelspec": {
   "display_name": "Python 3",
   "language": "python",
   "name": "python3"
  },
  "language_info": {
   "codemirror_mode": {
    "name": "ipython",
    "version": 3
   },
   "file_extension": ".py",
   "mimetype": "text/x-python",
   "name": "python",
   "nbconvert_exporter": "python",
   "pygments_lexer": "ipython3",
   "version": "3.8.3"
  }
 },
 "nbformat": 4,
 "nbformat_minor": 4
}
