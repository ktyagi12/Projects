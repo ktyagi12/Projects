{
 "cells": [
  {
   "cell_type": "code",
   "execution_count": 2,
   "metadata": {},
   "outputs": [
    {
     "name": "stdout",
     "output_type": "stream",
     "text": [
      "       Name  BirthYear  Age\n",
      "0  Karishma       1996   23\n",
      "1     Ankit       1995   24\n",
      "2    Diksha       1994   25\n",
      "3  RamKumar       1887  132\n",
      "4  Shyamali       1947   72\n",
      "5    Chirag       1934   85\n",
      "6    Shweta       1996   23\n",
      "7     Arpit       2005   14\n",
      "8     Mansi       2000   19\n",
      "Age: \t [ 23  24  25 132  72  85  23  14  19]\n",
      "BirthYear: \t [1996 1995 1994 1887 1947 1934 1996 2005 2000]\n",
      "a= \t 2019\n",
      "b= \t -1.0\n",
      "Enter the birthyear to predict your age: 1842\n",
      "The age for birth year 1842 is 177 \n"
     ]
    }
   ],
   "source": [
    "import pandas as pd\n",
    "import numpy as np\n",
    "import matplotlib.pyplot as plt\n",
    "import datetime as date\n",
    "\n",
    "path =r\"D:\\KTyagi\\KT\\Python_Workspace\\DataScience\\NameBirthYearAge.csv\"\n",
    "dframe = pd.read_csv(path)\n",
    "print (dframe)\n",
    "\n",
    "age = np.array(dframe.Age)\n",
    "birthyr = np.array(dframe.BirthYear)\n",
    "\n",
    "print ('Age: \\t', age)\n",
    "print ('BirthYear: \\t', birthyr)\n",
    "\n",
    "n = np.size(birthyr)\n",
    "mx = np.mean(birthyr)\n",
    "my = np.mean(age)\n",
    "\n",
    "cross_dev = np.sum(birthyr * age)- n * mx * my\n",
    "square_dev = np.sum(birthyr * birthyr)- n * mx * mx\n",
    "b = cross_dev / square_dev\n",
    "\n",
    "x = date.datetime.now()\n",
    "a = x.year\n",
    "print ('a= \\t', a)\n",
    "\n",
    "b = round(b)\n",
    "print ('b= \\t',b)\n",
    "\n",
    "plt.scatter(birthyr,age, color = 'r', marker = 'o', s = 40)\n",
    "\n",
    "age_pred = a +(b* birthyr)\n",
    "\n",
    "plt.plot(birthyr,age_pred, color = 'g')\n",
    "plt.xlabel('Birth Year')\n",
    "plt.ylabel('Age')\n",
    "plt.show()\n",
    "\n",
    "birthyr_test = int(input('Enter the birthyear to predict your age: '))\n",
    "age_test = a + (b* birthyr_test)\n",
    "print ('The age for birth year %d is %d ' %(birthyr_test,age_test) )"
   ]
  },
  {
   "cell_type": "code",
   "execution_count": null,
   "metadata": {
    "collapsed": true
   },
   "outputs": [],
   "source": []
  }
 ],
 "metadata": {
  "kernelspec": {
   "display_name": "Python 3",
   "language": "python",
   "name": "python3"
  },
  "language_info": {
   "codemirror_mode": {
    "name": "ipython",
    "version": 3
   },
   "file_extension": ".py",
   "mimetype": "text/x-python",
   "name": "python",
   "nbconvert_exporter": "python",
   "pygments_lexer": "ipython3",
   "version": "3.7.3"
  }
 },
 "nbformat": 4,
 "nbformat_minor": 1
}
