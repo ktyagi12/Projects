{
 "cells": [
  {
   "cell_type": "markdown",
   "metadata": {},
   "source": [
    "## Learning Hand Written Digits Recognition\n",
    "\n",
    "Execute three different training configurations of SVM and then test the outputs for 5-10 different digits;"
   ]
  },
  {
   "cell_type": "code",
   "execution_count": 1,
   "metadata": {},
   "outputs": [
    {
     "name": "stdout",
     "output_type": "stream",
     "text": [
      "1797\n",
      "Prediction: [1]\n"
     ]
    },
    {
     "data": {
      "text/plain": [
       "<Figure size 640x480 with 1 Axes>"
      ]
     },
     "metadata": {},
     "output_type": "display_data"
    }
   ],
   "source": [
    "__author__ = 'user'\n",
    "# http://pythonprogramming.net/support-vector-machine-svm-example-tutorial-scikit-learn-python/\n",
    "\n",
    "import matplotlib.pyplot as plt\n",
    "\n",
    "from sklearn import datasets\n",
    "from sklearn import svm\n",
    "\n",
    "digits = datasets.load_digits()\n",
    "\n",
    "classifier = svm.SVC(gamma=0.01, C=100)\n",
    "\n",
    "print(len(digits.data))\n",
    "\n",
    "x, y = digits.data[:-1], digits.target[:-1]\n",
    "classifier.fit(x, y)\n",
    "\n",
    "#print('Digits data: ', digits.data[-1].reshape(-1,1))\n",
    "print('Prediction:', classifier.predict(digits.data[1].reshape(1,-1)))\n",
    "\n",
    "plt.imshow(digits.images[1], cmap=plt.cm.gray_r, interpolation='nearest')\n",
    "plt.show()"
   ]
  },
  {
   "cell_type": "code",
   "execution_count": 2,
   "metadata": {},
   "outputs": [
    {
     "name": "stdout",
     "output_type": "stream",
     "text": [
      "(64,)\n",
      "\n",
      "Prediction for C= 0.01 and gamma= 0.5 : [3]\n",
      "Prediction for C= 0.01 and gamma= 0.5 : [3]\n",
      "Prediction for C= 0.01 and gamma= 0.5 : [3]\n",
      "Prediction for C= 0.01 and gamma= 0.5 : [3]\n",
      "Prediction for C= 0.01 and gamma= 0.5 : [3]\n",
      "\n",
      "Prediction for C= 10 and gamma= 0.005 : [1]\n",
      "Prediction for C= 10 and gamma= 0.005 : [8]\n",
      "Prediction for C= 10 and gamma= 0.005 : [4]\n",
      "Prediction for C= 10 and gamma= 0.005 : [3]\n",
      "Prediction for C= 10 and gamma= 0.005 : [9]\n",
      "\n",
      "Prediction for C= 1000 and gamma= 0.99999 : [1]\n",
      "Prediction for C= 1000 and gamma= 0.99999 : [3]\n",
      "Prediction for C= 1000 and gamma= 0.99999 : [4]\n",
      "Prediction for C= 1000 and gamma= 0.99999 : [3]\n",
      "Prediction for C= 1000 and gamma= 0.99999 : [9]\n"
     ]
    },
    {
     "data": {
      "image/png": "[encoded data removed]",
      "text/plain": [
       "<Figure size 432x288 with 1 Axes>"
      ]
     },
     "metadata": {
      "needs_background": "light"
     },
     "output_type": "display_data"
    },
    {
     "data": {
      "image/png": "[encoded data removed]",
      "text/plain": [
       "<Figure size 432x288 with 1 Axes>"
      ]
     },
     "metadata": {
      "needs_background": "light"
     },
     "output_type": "display_data"
    },
    {
     "data": {
      "image/png": "[encoded data removed]",
      "text/plain": [
       "<Figure size 432x288 with 1 Axes>"
      ]
     },
     "metadata": {
      "needs_background": "light"
     },
     "output_type": "display_data"
    },
    {
     "data": {
      "image/png": "[encoded data removed]",
      "text/plain": [
       "<Figure size 432x288 with 1 Axes>"
      ]
     },
     "metadata": {
      "needs_background": "light"
     },
     "output_type": "display_data"
    },
    {
     "data": {
      "image/png": "[encoded data removed]",
      "text/plain": [
       "<Figure size 432x288 with 1 Axes>"
      ]
     },
     "metadata": {
      "needs_background": "light"
     },
     "output_type": "display_data"
    }
   ],
   "source": [
    "__author__ = 'user'\n",
    "# http://pythonprogramming.net/support-vector-machine-svm-example-tutorial-scikit-learn-python/\n",
    "\n",
    "import matplotlib.pyplot as plt\n",
    "\n",
    "from sklearn import datasets\n",
    "from sklearn import svm\n",
    "\n",
    "digits = datasets.load_digits()\n",
    "x, y = digits.data[:-1], digits.target[:-1]\n",
    "\n",
    "C_2d_range = [0.01,10,1000]\n",
    "gamma_2d_range = [0.5,0.005,0.99999]\n",
    "print(digits.data[-1].shape)\n",
    "\n",
    "for i in range(3):\n",
    "    clf = svm.SVC(C=C_2d_range[i], gamma=gamma_2d_range[i])\n",
    "    clf.fit(x,y)\n",
    "    print('\\nPrediction for C=', C_2d_range[i],'and gamma=', gamma_2d_range[i],':', clf.predict(digits.data[1].reshape(1,-1)))\n",
    "    print('Prediction for C=', C_2d_range[i],'and gamma=', gamma_2d_range[i],':',clf.predict(digits.data[-1].reshape(1,-1)))\n",
    "    print('Prediction for C=', C_2d_range[i],'and gamma=', gamma_2d_range[i],':', clf.predict(digits.data[4].reshape(1,-1)))\n",
    "    print('Prediction for C=', C_2d_range[i],'and gamma=', gamma_2d_range[i],':', clf.predict(digits.data[3].reshape(1,-1)))\n",
    "    print('Prediction for C=', C_2d_range[i],'and gamma=', gamma_2d_range[i],':', clf.predict(digits.data[-5].reshape(1,-1)))\n",
    "    \n",
    "plt.imshow(digits.images[1], cmap=plt.cm.gray_r, interpolation='nearest')\n",
    "plt.show()\n",
    "plt.imshow(digits.images[-1], cmap=plt.cm.gray_r, interpolation='nearest')\n",
    "plt.show()\n",
    "plt.imshow(digits.images[4], cmap=plt.cm.gray_r, interpolation='nearest')\n",
    "plt.show()\n",
    "plt.imshow(digits.images[3], cmap=plt.cm.gray_r, interpolation='nearest')\n",
    "plt.show()\n",
    "plt.imshow(digits.images[-5], cmap=plt.cm.gray_r, interpolation='nearest')\n",
    "plt.show()"
   ]
  },
  {
   "cell_type": "code",
   "execution_count": 3,
   "metadata": {},
   "outputs": [
    {
     "data": {
      "text/plain": [
       "<matplotlib.image.AxesImage at 0x1dfb7092a20>"
      ]
     },
     "execution_count": 3,
     "metadata": {},
     "output_type": "execute_result"
    },
    {
     "data": {
      "image/png": "[encoded data removed]",
      "text/plain": [
       "<Figure size 432x288 with 1 Axes>"
      ]
     },
     "metadata": {
      "needs_background": "light"
     },
     "output_type": "display_data"
    }
   ],
   "source": [
    "plt.imshow(digits.images[3], cmap=plt.cm.gray_r, interpolation='nearest')"
   ]
  },
  {
   "cell_type": "code",
   "execution_count": null,
   "metadata": {},
   "outputs": [],
   "source": []
  }
 ],
 "metadata": {
  "kernelspec": {
   "display_name": "Python 3",
   "language": "python",
   "name": "python3"
  },
  "language_info": {
   "codemirror_mode": {
    "name": "ipython",
    "version": 3
   },
   "file_extension": ".py",
   "mimetype": "text/x-python",
   "name": "python",
   "nbconvert_exporter": "python",
   "pygments_lexer": "ipython3",
   "version": "3.7.3"
  }
 },
 "nbformat": 4,
 "nbformat_minor": 2
}
